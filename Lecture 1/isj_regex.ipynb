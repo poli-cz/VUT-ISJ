{
 "cells": [
  {
   "cell_type": "markdown",
   "metadata": {
    "slideshow": {
     "slide_type": "slide"
    }
   },
   "source": [
    "# ISJ – regular expressions"
   ]
  },
  {
   "cell_type": "markdown",
   "metadata": {
    "slideshow": {
     "slide_type": "slide"
    }
   },
   "source": [
    "## Motivation\n",
    "> Scripting without regular expressions is like sex without partner.  \n",
    "  You can do it, but you are definitely missing something important."
   ]
  },
  {
   "cell_type": "markdown",
   "metadata": {
    "collapsed": true,
    "slideshow": {
     "slide_type": "subslide"
    }
   },
   "source": [
    "## Motivation\n",
    "> Some people, when confronted with a problem, think  \n",
    "  “I know, I'll use regular expressions.”  \n",
    "  Now they have two problems.  \n",
    "  \n",
    "  Author: Jamie Zawinski (an early Netscape engineer, a high priest of the church of XEmacs) \n",
    "\n"
   ]
  },
  {
   "cell_type": "markdown",
   "metadata": {
    "collapsed": true,
    "slideshow": {
     "slide_type": "subslide"
    }
   },
   "source": [
    "## Motivation\n",
    ">Some people, when confronted with a problem, think  \n",
    " “I know, I won't use regular expressions.”  \n",
    " Now they have two problems. \n",
    "\n",
    "\n",
    "  \n",
    "  Author: Rex, 21 October 2015\n"
   ]
  },
  {
   "cell_type": "markdown",
   "metadata": {
    "collapsed": true,
    "slideshow": {
     "slide_type": "subslide"
    }
   },
   "source": [
    "## Motivation\n",
    "> Obviously, something there is missing…  \n",
    "What two problems are we talking about?\n",
    "\n",
    "[Regex Humor] (http://www.rexegg.com/regex-humor.html)\n",
    "\n",
    "Some attempts to complete the quote follow...   "
   ]
  },
  {
   "cell_type": "markdown",
   "metadata": {
    "collapsed": true,
    "slideshow": {
     "slide_type": "subslide"
    }
   },
   "source": [
    "## Motivation\n",
    ">...Now you have two problems:  \n",
    "1. figuring out what to do with the many hours of tedious coding you just saved, and\n",
    "2. having to deal with the trolls who give you an earache parrotting some lame quote about having two problems. \n",
    "\n",
    "\n",
    "  \n",
    "  Author: Rex, 7 May 2014\n"
   ]
  },
  {
   "cell_type": "markdown",
   "metadata": {
    "collapsed": true,
    "slideshow": {
     "slide_type": "slide"
    }
   },
   "source": [
    "# Regex: what is it?\n",
    "\n",
    "* A **regular expression** (abbreviated <span style=\"color:red\">regex</span>) is a sequence of characters that forms a search pattern,\n",
    "* mainly for use in pattern matching with strings, \n",
    "* i.e. \"<span style=\"color:blue\">find and replace</span>\"-like operations."
   ]
  },
  {
   "cell_type": "markdown",
   "metadata": {
    "slideshow": {
     "slide_type": "subslide"
    }
   },
   "source": [
    "## Widely used, e.g. on the command line\n",
    "* search and replace: sed\n",
    "* match and find: grep\n",
    "* split/tokenize: no specific command\n"
   ]
  },
  {
   "cell_type": "markdown",
   "metadata": {
    "slideshow": {
     "slide_type": "subslide"
    }
   },
   "source": [
    "## Main tasks\n",
    "* check if a string/file matches a **pattern**\n",
    "* find a/all matches in a string/file of a **pattern**\n",
    "* search and replace\n",
    "* split strings on a pattern: _tokenization_"
   ]
  },
  {
   "cell_type": "markdown",
   "metadata": {
    "slideshow": {
     "slide_type": "slide"
    }
   },
   "source": [
    "## RegEx syntax\n",
    "* Except of special characters, every string matches itself"
   ]
  },
  {
   "cell_type": "markdown",
   "metadata": {
    "slideshow": {
     "slide_type": "fragment"
    }
   },
   "source": [
    "* RegEx are generally case sensitive but it is usually easy to set the matching to be case insensitive"
   ]
  },
  {
   "cell_type": "markdown",
   "metadata": {
    "slideshow": {
     "slide_type": "fragment"
    }
   },
   "source": [
    "* Old implementations deal with one-byte characters only, new ones cope with UNICODE"
   ]
  },
  {
   "cell_type": "markdown",
   "metadata": {
    "slideshow": {
     "slide_type": "subslide"
    }
   },
   "source": [
    "## Metacharacters\n",
    "\n",
    "Char | Meaning \n",
    ":---: |---\n",
    "\\  | Quote the next metacharacter\n",
    "^  | Match the beginning of the line\n",
    ".  | Match any character (except newline)\n",
    "$  | Match the end of the string (or before newline at the end of the string)\n",
    "│  | Alternation\n",
    "() | Grouping\n",
    "[] | Bracketed Character class"
   ]
  },
  {
   "cell_type": "markdown",
   "metadata": {
    "slideshow": {
     "slide_type": "skip"
    }
   },
   "source": [
    "## Examples\n",
    "    \\.\\.\\.\n",
    "    \n",
    "    [0-9]\n",
    "\n",
    "    [^aeiou]\n",
    "\n",
    "    \\[[a-z]\\]"
   ]
  },
  {
   "cell_type": "markdown",
   "metadata": {
    "slideshow": {
     "slide_type": "subslide"
    }
   },
   "source": [
    "## Examples\n",
    "    \n",
    "    [.^az-]\n",
    "\n",
    "    [][]\n",
    "\n",
    "    [[]]"
   ]
  },
  {
   "cell_type": "markdown",
   "metadata": {
    "slideshow": {
     "slide_type": "slide"
    }
   },
   "source": [
    "## Quantifiers\n",
    "\n",
    "Q | Meaning \n",
    ":---: |---\n",
    "        *          | Match 0 or more times\n",
    "        +          | Match 1 or more times\n",
    "        ?          | Match 1 or 0 times\n",
    "        {n}        | Match exactly n times\n",
    "        {n,}       | Match at least n times\n",
    "        {n,m}      | Match at least n but not more than m times\n",
    "        "
   ]
  },
  {
   "cell_type": "markdown",
   "metadata": {
    "slideshow": {
     "slide_type": "subslide"
    }
   },
   "source": [
    "## Be aware of\n",
    "\n",
    "What lines match regular expression:  "
   ]
  },
  {
   "cell_type": "raw",
   "metadata": {
    "slideshow": {
     "slide_type": "fragment"
    }
   },
   "source": [
    "[0-9]*     "
   ]
  },
  {
   "cell_type": "markdown",
   "metadata": {
    "slideshow": {
     "slide_type": "subslide"
    }
   },
   "source": [
    "What part of string:  "
   ]
  },
  {
   "cell_type": "raw",
   "metadata": {
    "slideshow": {
     "slide_type": "fragment"
    }
   },
   "source": [
    "This is a <em\\>first</em\\> test.  "
   ]
  },
  {
   "cell_type": "markdown",
   "metadata": {
    "slideshow": {
     "slide_type": "fragment"
    }
   },
   "source": [
    "corresponds to regular expression:    "
   ]
  },
  {
   "cell_type": "raw",
   "metadata": {
    "slideshow": {
     "slide_type": "fragment"
    }
   },
   "source": [
    "<.+>  "
   ]
  },
  {
   "cell_type": "markdown",
   "metadata": {
    "slideshow": {
     "slide_type": "fragment"
    }
   },
   "source": [
    "<span style=\"color:red\">Watch Out for The Greediness!</span>"
   ]
  },
  {
   "cell_type": "markdown",
   "metadata": {
    "slideshow": {
     "slide_type": "slide"
    }
   },
   "source": [
    "## RegEx matching process\n",
    "1. start at the begining of the given string/text\n",
    "2. for each subpart of the given RE, try to find the longest sequence of characters in the string\n",
    "3. continue with other subparts of the RE\n",
    "4. if it is not possible any time later, try to shorten the current sequence (the potential subpart match) by 1                                                                                                                                                                                                                                                                                                                                                                                     \n",
    "5. if all parts are shorted to their minima and still the match has not been found, move one character in the string and repeat."
   ]
  },
  {
   "cell_type": "markdown",
   "metadata": {
    "slideshow": {
     "slide_type": "slide"
    }
   },
   "source": [
    "## RegEx matching process\n",
    "\n",
    "![r.*](brambory.jpg)"
   ]
  },
  {
   "cell_type": "markdown",
   "metadata": {
    "slideshow": {
     "slide_type": "slide"
    }
   },
   "source": [
    "## RegEx flavours\n",
    "\n",
    "* PCRE – Perl Compatible Regular Expressions\n",
    "* en.wikipedia.org/wiki/Comparison_of_regular_expression_engines\n"
   ]
  },
  {
   "cell_type": "markdown",
   "metadata": {
    "slideshow": {
     "slide_type": "slide"
    }
   },
   "source": [
    "## Tools\n",
    "`grep`:\n",
    "\n",
    "A utility for pattern matching. grep is by far the most useful unix utility. grep is typically called like this: \n",
    "\n",
    "`grep [options] [pattern] [files]`. \n",
    "\n",
    "With no options specified, this simply looks for the specified pattern in the given files, printing to the console only those lines that match the given pattern."
   ]
  },
  {
   "cell_type": "markdown",
   "metadata": {
    "collapsed": true,
    "slideshow": {
     "slide_type": "subslide"
    }
   },
   "source": [
    "## Grep options\n",
    "\n",
    "Short | Long | Meaning\n",
    "--- | --- | ---\n",
    "  -E | --extended-regexp |    PATTERN is an extended regular expression (ERE)\n",
    "  -F | --fixed-strings   |    PATTERN is a set of newline-separated strings\n",
    "  -G | --basic-regexp    |    PATTERN is a basic regular expression (BRE)\n",
    "  -P | --perl-regexp     |    PATTERN is a Perl regular expression\n",
    "  -i | --ignore-case      |   ignore case distinctions\n",
    "  -v | --invert-match    |    select non-matching lines\n",
    " "
   ]
  },
  {
   "cell_type": "markdown",
   "metadata": {
    "slideshow": {
     "slide_type": "subslide"
    }
   },
   "source": [
    "## Tools\n",
    "`sed`:\n",
    "\n",
    "* A non-interactive stream editor\n",
    "* RE used for:\n",
    "  - find lines for which an command should be applied\n",
    "  - substitution: sed 's/old/new/g' < inp > out\n",
    "  \n",
    "'123456789012345678901234567890z'.match(/^(\\d+)*$/)\n",
    "  - \n"
   ]
  },
  {
   "cell_type": "markdown",
   "metadata": {
    "slideshow": {
     "slide_type": "slide"
    }
   },
   "source": [
    "## Tools\n",
    "`python`:\n",
    "\n",
    "než začnete používat RE, zkuste to bez nich:\n",
    "https://docs.python.org/3/library/string.html#string-functions"
   ]
  },
  {
   "cell_type": "code",
   "execution_count": null,
   "metadata": {
    "slideshow": {
     "slide_type": "fragment"
    }
   },
   "outputs": [],
   "source": [
    "uk = \"colour, flavour, behaviour, harbour, honour, humour, labour, neighbour, rumour, splendour\"\n",
    "%timeit -n 100000 uk.replace('our', 'or')\n",
    "import re\n",
    "%timeit -n 100000 re.sub('our', 'or', uk)\n",
    "pat = re.compile('our')\n",
    "%timeit -n 100000 pat.sub('or', uk)"
   ]
  },
  {
   "cell_type": "code",
   "execution_count": null,
   "metadata": {
    "slideshow": {
     "slide_type": "subslide"
    }
   },
   "outputs": [],
   "source": [
    "import re\n",
    "# import regex # if you like good times\n",
    "# intended to replace `re`, the regex module has many advanced\n",
    "# features for regex lovers. http://pypi.python.org/pypi/regex\n",
    "pattern = r'(\\w+):(\\w+):(\\d+)'\n",
    "subject = 'apple:green:3 banana:yellow:5'\n",
    "regex = re.compile(pattern)"
   ]
  },
  {
   "cell_type": "code",
   "execution_count": null,
   "metadata": {
    "slideshow": {
     "slide_type": "subslide"
    }
   },
   "outputs": [],
   "source": [
    "######## The six main tasks we're likely to have ########\n",
    "\n",
    "# Task 1: Is there a match?\n",
    "print(\"*** Is there a Match? ***\")\n",
    "if regex.search(subject):\n",
    "\tprint (\"Yes\")\n",
    "else:\n",
    "\tprint (\"No\")"
   ]
  },
  {
   "cell_type": "code",
   "execution_count": null,
   "metadata": {
    "slideshow": {
     "slide_type": "subslide"
    }
   },
   "outputs": [],
   "source": [
    "# Task 2: How many matches are there?\n",
    "print(\"\\n\" + \"*** Number of Matches ***\")\n",
    "matches = regex.findall(subject)\n",
    "print(len(matches))"
   ]
  },
  {
   "cell_type": "code",
   "execution_count": null,
   "metadata": {
    "slideshow": {
     "slide_type": "subslide"
    }
   },
   "outputs": [],
   "source": [
    "# Task 3: What is the first match?\n",
    "print(\"\\n\" + \"*** First Match ***\")\n",
    "match = regex.search(subject)\n",
    "if match:\n",
    "\tprint(\"Overall match: \", match.group(0))\n",
    "\tprint(\"Group 1 : \", match.group(1))\n",
    "\tprint(\"Group 2 : \", match.group(2))\n",
    "\tprint(\"Group 3 : \", match.group(3))\n",
    "\t"
   ]
  },
  {
   "cell_type": "code",
   "execution_count": null,
   "metadata": {
    "slideshow": {
     "slide_type": "subslide"
    }
   },
   "outputs": [],
   "source": [
    "# Task 4: What are all the matches?\n",
    "print(\"\\n\" + \"*** All Matches ***\\n\")\n",
    "print(\"------ Method 1: finditer ------\\n\")\n",
    "for match in regex.finditer(subject):\n",
    "\tprint (\"--- Start of Match ---\")\n",
    "\tprint(\"Overall match: \", match.group(0))\n",
    "\tprint(\"Group 1 : \", match.group(1))\n",
    "\tprint(\"Group 2 : \", match.group(2))\n",
    "\tprint(\"Group 3 : \", match.group(3))\n",
    "\tprint (\"--- End of Match---\\n\")\t\t\n",
    "\n",
    "print(\"\\n------ Method 2: findall ------\\n\")\n",
    "# if there are capture groups, findall doesn't return the overall match\n",
    "# therefore, in that case, wrap the pattern in capturing parentheses\n",
    "# the overall match becomes group 1, so other group numbers are bumped up!\n",
    "wrappedpattern = \"(\" + pattern + \")\"\n",
    "wrappedregex = re.compile(wrappedpattern)\n",
    "matches = wrappedregex.findall(subject)\n",
    "if len(matches)>0:\n",
    "\tfor match in matches:\n",
    "\t    print (\"--- Start of Match ---\")\n",
    "\t    print (\"Overall Match: \",match[0])\n",
    "\t    print (\"Group 1: \",match[1])\n",
    "\t    print (\"Group 2: \",match[2])\n",
    "\t    print (\"Group 3: \",match[3])\n",
    "\t    print (\"--- End of Match---\\n\")\t\t"
   ]
  },
  {
   "cell_type": "code",
   "execution_count": null,
   "metadata": {
    "slideshow": {
     "slide_type": "subslide"
    }
   },
   "outputs": [],
   "source": [
    "# Task 5: Replace the matches\n",
    "# simple replacement: reverse group\n",
    "print(\"\\n\" + \"*** Replacements ***\")\n",
    "print(\"Let's reverse the groups\")\n",
    "def reversegroups(m):\n",
    "\treturn m.group(3) + \":\" + m.group(2) + \":\" + m.group(1)\n",
    "replaced = regex.sub(reversegroups, subject)\n",
    "print(replaced)"
   ]
  },
  {
   "cell_type": "code",
   "execution_count": null,
   "metadata": {
    "slideshow": {
     "slide_type": "subslide"
    }
   },
   "outputs": [],
   "source": [
    "# Task 6: Split\n",
    "print(\"\\n\" + \"*** Splits ***\")\n",
    "# Let's split at colons or spaces\n",
    "splits = re.split(r\":|\\s\",subject)\n",
    "for split in splits:\n",
    "\t    print (split)"
   ]
  },
  {
   "cell_type": "code",
   "execution_count": null,
   "metadata": {
    "slideshow": {
     "slide_type": "slide"
    }
   },
   "outputs": [],
   "source": [
    "a = re.compile(r\"\"\"\\d +  # the integral part\n",
    "                   \\.    # the decimal point\n",
    "                   \\d *  # some fractional digits\"\"\", re.X)"
   ]
  },
  {
   "cell_type": "code",
   "execution_count": 209,
   "metadata": {
    "code_folding": [
     0
    ],
    "hide_input": true,
    "slideshow": {
     "slide_type": "slide"
    }
   },
   "outputs": [
    {
     "data": {
      "text/html": [
       "<h2>Characters</h2>\n",
       "<table width=\"600\" border=\"0\" style=\"table-layout:fixed;\"><tr><th width=\"100\" scope=\"col\">Character</th><th width=\"200\" scope=\"col\">Legend</th><th width=\"150\" scope=\"col\">Example</th><th width=\"150\" scope=\"col\">Sample Match</th></tr><tr class=\"brown\"><td><span class=\"mono\">\\d</span></td><td>Most engines: one digit<br />from 0 to 9</td><td>file_\\d\\d</td><td>file_25</td></tr><tr class=\"beige\"><td><span class=\"mono\">\\d</span></td><td>.NET, Python 3: one Unicode digit in any script</td><td>file_\\d\\d</td><td>file_9੩</td></tr><tr class=\"brown\"><td><span class=\"mono\">\\w</span></td><td>Most engines: \"word character\": ASCII letter, digit or underscore</td><td>\\w-\\w\\w\\w</td><td>A-b_1</td></tr><tr class=\"beige\"><td><span class=\"mono\">\\w</span></td><td>.Python 3: \"word character\": Unicode letter, ideogram, digit, or underscore</td><td>\\w-\\w\\w\\w</td><td>字-ま_۳</td></tr><tr class=\"brown\"><td><span class=\"mono\">\\w</span></td><td>.NET: \"word character\": Unicode letter, ideogram, digit, or connector</td><td>\\w-\\w\\w\\w</td><td>字-ま‿۳</td></tr><tr class=\"beige\"><td><span class=\"mono\">\\s</span></td><td>Most engines: \"whitespace character\": space, tab, newline, carriage return, vertical tab</td><td>a\\sb\\sc</td><td>a b<br />c</td></tr><tr class=\"brown\"><td><span class=\"mono\">\\s</span></td><td>.NET, Python 3, JavaScript: \"whitespace character\": any Unicode separator</td><td>a\\sb\\sc</td><td>a b<br />c</td></tr><tr class=\"beige\"><td><span class=\"mono\">\\D</span></td><td>One character that is not a <i>digit</i> as defined by your engine's <i>\\d</i></td><td>\\D\\D\\D</td><td>ABC</td></tr><tr class=\"brown\"><td><span class=\"mono\">\\W</span></td><td>One character that is not a <i>word character</i> as defined by your engine's <i>\\w</i></td><td>\\W\\W\\W\\W\\W</td><td>*-+=)</td></tr><tr class=\"beige\"><td><span class=\"mono\">\\S</span></td><td>One character that is not a <i>whitespace character</i> as defined by your engine's <i>\\s</i></td><td>\\S\\S\\S\\S</td><td>Yoyo</td></tr></table>\n"
      ],
      "text/plain": [
       "<IPython.core.display.HTML object>"
      ]
     },
     "metadata": {},
     "output_type": "display_data"
    }
   ],
   "source": [
    "%%html\n",
    "<h2>Characters</h2>\n",
    "<table width=\"600\" border=\"0\" style=\"table-layout:fixed;\"><tr><th width=\"100\" scope=\"col\">Character</th><th width=\"200\" scope=\"col\">Legend</th><th width=\"150\" scope=\"col\">Example</th><th width=\"150\" scope=\"col\">Sample Match</th></tr><tr class=\"brown\"><td><span class=\"mono\">\\d</span></td><td>Most engines: one digit<br />from 0 to 9</td><td>file_\\d\\d</td><td>file_25</td></tr><tr class=\"beige\"><td><span class=\"mono\">\\d</span></td><td>.NET, Python 3: one Unicode digit in any script</td><td>file_\\d\\d</td><td>file_9੩</td></tr><tr class=\"brown\"><td><span class=\"mono\">\\w</span></td><td>Most engines: \"word character\": ASCII letter, digit or underscore</td><td>\\w-\\w\\w\\w</td><td>A-b_1</td></tr><tr class=\"beige\"><td><span class=\"mono\">\\w</span></td><td>.Python 3: \"word character\": Unicode letter, ideogram, digit, or underscore</td><td>\\w-\\w\\w\\w</td><td>字-ま_۳</td></tr><tr class=\"brown\"><td><span class=\"mono\">\\w</span></td><td>.NET: \"word character\": Unicode letter, ideogram, digit, or connector</td><td>\\w-\\w\\w\\w</td><td>字-ま‿۳</td></tr><tr class=\"beige\"><td><span class=\"mono\">\\s</span></td><td>Most engines: \"whitespace character\": space, tab, newline, carriage return, vertical tab</td><td>a\\sb\\sc</td><td>a b<br />c</td></tr><tr class=\"brown\"><td><span class=\"mono\">\\s</span></td><td>.NET, Python 3, JavaScript: \"whitespace character\": any Unicode separator</td><td>a\\sb\\sc</td><td>a b<br />c</td></tr><tr class=\"beige\"><td><span class=\"mono\">\\D</span></td><td>One character that is not a <i>digit</i> as defined by your engine's <i>\\d</i></td><td>\\D\\D\\D</td><td>ABC</td></tr><tr class=\"brown\"><td><span class=\"mono\">\\W</span></td><td>One character that is not a <i>word character</i> as defined by your engine's <i>\\w</i></td><td>\\W\\W\\W\\W\\W</td><td>*-+=)</td></tr><tr class=\"beige\"><td><span class=\"mono\">\\S</span></td><td>One character that is not a <i>whitespace character</i> as defined by your engine's <i>\\s</i></td><td>\\S\\S\\S\\S</td><td>Yoyo</td></tr></table>"
   ]
  },
  {
   "cell_type": "code",
   "execution_count": 210,
   "metadata": {
    "code_folding": [
     0
    ],
    "hide_input": true,
    "slideshow": {
     "slide_type": "slide"
    }
   },
   "outputs": [
    {
     "data": {
      "text/html": [
       "<h2>Quantifiers</h2>\n",
       "\n",
       "\n",
       "<table width=\"600\" border=\"0\" style=\"table-layout:fixed;\"><tr><th width=\"100\" scope=\"col\">Quantifier</th><th width=\"200\" scope=\"col\">Legend</th><th width=\"150\" scope=\"col\">Example</th><th width=\"150\" scope=\"col\">Sample Match</th></tr><tr class=\"wasabi\"><td><span class=\"mono\">+</span></td><td>One or more</td><td>Version \\w-\\w+</td><td>Version A-b1_1</td></tr><tr class=\"greentea\"><td><span class=\"mono\">{3}</span></td><td>Exactly three times</td><td>\\D{3}</td><td>ABC</td></tr><tr class=\"wasabi\"><td><span class=\"mono\">{2,4}</span></td><td>Two to four times</td><td>\\d{2,4}</td><td>156</td></tr><tr class=\"greentea\"><td><span class=\"mono\">{3,}</span></td><td>Three or more times</td><td>\\w{3,}</td><td>regex_tutorial</td></tr><tr class=\"wasabi\"><td><span class=\"mono\">*</span></td><td>Zero or more times</td><td>A*B*C*</td><td>AAACC</td></tr><tr class=\"greentea\"><td><span class=\"mono\">?</span></td><td>Once or none</td><td>plurals?</td><td>plural</td></tr></table>\n"
      ],
      "text/plain": [
       "<IPython.core.display.HTML object>"
      ]
     },
     "metadata": {},
     "output_type": "display_data"
    }
   ],
   "source": [
    "%%html\n",
    "<h2>Quantifiers</h2>\n",
    "\n",
    "\n",
    "<table width=\"600\" border=\"0\" style=\"table-layout:fixed;\"><tr><th width=\"100\" scope=\"col\">Quantifier</th><th width=\"200\" scope=\"col\">Legend</th><th width=\"150\" scope=\"col\">Example</th><th width=\"150\" scope=\"col\">Sample Match</th></tr><tr class=\"wasabi\"><td><span class=\"mono\">+</span></td><td>One or more</td><td>Version \\w-\\w+</td><td>Version A-b1_1</td></tr><tr class=\"greentea\"><td><span class=\"mono\">{3}</span></td><td>Exactly three times</td><td>\\D{3}</td><td>ABC</td></tr><tr class=\"wasabi\"><td><span class=\"mono\">{2,4}</span></td><td>Two to four times</td><td>\\d{2,4}</td><td>156</td></tr><tr class=\"greentea\"><td><span class=\"mono\">{3,}</span></td><td>Three or more times</td><td>\\w{3,}</td><td>regex_tutorial</td></tr><tr class=\"wasabi\"><td><span class=\"mono\">*</span></td><td>Zero or more times</td><td>A*B*C*</td><td>AAACC</td></tr><tr class=\"greentea\"><td><span class=\"mono\">?</span></td><td>Once or none</td><td>plurals?</td><td>plural</td></tr></table>"
   ]
  },
  {
   "cell_type": "code",
   "execution_count": 211,
   "metadata": {
    "code_folding": [
     0
    ],
    "hide_input": true,
    "slideshow": {
     "slide_type": "slide"
    }
   },
   "outputs": [
    {
     "data": {
      "text/html": [
       "<h2>More Characters</h2>\n",
       "\n",
       "<table width=\"600\" border=\"0\" style=\"table-layout:fixed;\"><tr><th width=\"100\" scope=\"col\">Character</th><th width=\"200\" scope=\"col\">Legend</th><th width=\"150\" scope=\"col\">Example</th><th width=\"150\" scope=\"col\">Sample Match</th></tr><tr class=\"brown\"><td><span class=\"mono\"><b>.</b></span></td><td>Any character except line break</td><td>a.c</td><td>abc</td></tr><tr class=\"beige\"><td><span class=\"mono\"><b>.</b></span></td><td>Any character except line break</td><td>.*</td><td>whatever, man.</td></tr><tr class=\"brown\"><td><span class=\"mono\">\\<b>.</b></span></td><td>A period (special character: needs to be escaped by a \\)</td><td>a\\.c</td><td>a.c</td></tr><tr class=\"beige\"><td><span class=\"mono\">\\</span></td><td>Escapes a special character</td><td>\\.\\*\\+\\?&nbsp;&nbsp;&nbsp;&nbsp;\\$\\^\\/\\&#92;</td><td>.*+?&nbsp;&nbsp;&nbsp;&nbsp;$^/&#92;</td></tr><tr class=\"brown\"><td><span class=\"mono\">\\</span></td><td>Escapes a special character</td><td>\\[\\{\\(\\)\\}\\]</td><td>[{()}]</td></tr></table>\n"
      ],
      "text/plain": [
       "<IPython.core.display.HTML object>"
      ]
     },
     "metadata": {},
     "output_type": "display_data"
    }
   ],
   "source": [
    "%%html\n",
    "<h2>More Characters</h2>\n",
    "\n",
    "<table width=\"600\" border=\"0\" style=\"table-layout:fixed;\"><tr><th width=\"100\" scope=\"col\">Character</th><th width=\"200\" scope=\"col\">Legend</th><th width=\"150\" scope=\"col\">Example</th><th width=\"150\" scope=\"col\">Sample Match</th></tr><tr class=\"brown\"><td><span class=\"mono\"><b>.</b></span></td><td>Any character except line break</td><td>a.c</td><td>abc</td></tr><tr class=\"beige\"><td><span class=\"mono\"><b>.</b></span></td><td>Any character except line break</td><td>.*</td><td>whatever, man.</td></tr><tr class=\"brown\"><td><span class=\"mono\">\\<b>.</b></span></td><td>A period (special character: needs to be escaped by a \\)</td><td>a\\.c</td><td>a.c</td></tr><tr class=\"beige\"><td><span class=\"mono\">\\</span></td><td>Escapes a special character</td><td>\\.\\*\\+\\?&nbsp;&nbsp;&nbsp;&nbsp;\\$\\^\\/\\&#92;</td><td>.*+?&nbsp;&nbsp;&nbsp;&nbsp;$^/&#92;</td></tr><tr class=\"brown\"><td><span class=\"mono\">\\</span></td><td>Escapes a special character</td><td>\\[\\{\\(\\)\\}\\]</td><td>[{()}]</td></tr></table>"
   ]
  },
  {
   "cell_type": "code",
   "execution_count": null,
   "metadata": {
    "slideshow": {
     "slide_type": "subslide"
    }
   },
   "outputs": [],
   "source": [
    "import re\n",
    "s = '100 NORTH MAIN ROAD'\n",
    "re.sub('ROAD$', 'RD.', s) \n",
    "# $ means “end of the string.”\n",
    "# caret ^ means “beginning of the string.”"
   ]
  },
  {
   "cell_type": "code",
   "execution_count": null,
   "metadata": {
    "slideshow": {
     "slide_type": "subslide"
    }
   },
   "outputs": [],
   "source": [
    "import re\n",
    "s = '100 NORTH MAIN ROAD'\n",
    "re.sub('ROAD$', 'RD.', s) \n",
    "# $ means “end of the string.”\n",
    "# caret ^ means “beginning of the string.”"
   ]
  },
  {
   "cell_type": "code",
   "execution_count": null,
   "metadata": {
    "slideshow": {
     "slide_type": "subslide"
    }
   },
   "outputs": [],
   "source": [
    "s = '100 BROAD'\n",
    "re.sub('ROAD$', 'RD.', s)"
   ]
  },
  {
   "cell_type": "code",
   "execution_count": null,
   "metadata": {
    "slideshow": {
     "slide_type": "subslide"
    }
   },
   "outputs": [],
   "source": [
    "re.sub('\\\\bROAD$', 'RD.', s)\n",
    "# \\b, means “a word boundary must occur right here.”  + \\ escape character"
   ]
  },
  {
   "cell_type": "code",
   "execution_count": null,
   "metadata": {
    "slideshow": {
     "slide_type": "subslide"
    }
   },
   "outputs": [],
   "source": [
    "re.sub(r'\\bROAD$', 'RD.', s) \n",
    "# raw string, tells Python that nothing in this string should be escaped"
   ]
  },
  {
   "cell_type": "code",
   "execution_count": null,
   "metadata": {
    "slideshow": {
     "slide_type": "subslide"
    }
   },
   "outputs": [],
   "source": [
    "s = '100 BROAD ROAD APT. 3'\n",
    "re.sub(r'\\bROAD$', 'RD.', s)"
   ]
  },
  {
   "cell_type": "code",
   "execution_count": null,
   "metadata": {
    "slideshow": {
     "slide_type": "subslide"
    }
   },
   "outputs": [],
   "source": [
    "re.sub(r'\\bROAD\\b', 'RD.', s) "
   ]
  },
  {
   "cell_type": "markdown",
   "metadata": {
    "slideshow": {
     "slide_type": "subslide"
    }
   },
   "source": [
    "Roman Numerals\n",
    "==============\n",
    "    I = 1\n",
    "    V = 5\n",
    "    X = 10\n",
    "    L = 50\n",
    "    C = 100\n",
    "    D = 500\n",
    "    M = 1000 "
   ]
  },
  {
   "cell_type": "code",
   "execution_count": null,
   "metadata": {
    "slideshow": {
     "slide_type": "subslide"
    }
   },
   "outputs": [],
   "source": [
    "pattern = '^M?M?M?$'\n",
    "# M? optionally matches a single M character. \n",
    "re.search(pattern, 'M') "
   ]
  },
  {
   "cell_type": "code",
   "execution_count": null,
   "metadata": {
    "slideshow": {
     "slide_type": "subslide"
    }
   },
   "outputs": [],
   "source": [
    "re.search(pattern, '')\n",
    "# all the M characters are optional. "
   ]
  },
  {
   "cell_type": "code",
   "execution_count": null,
   "metadata": {
    "slideshow": {
     "slide_type": "subslide"
    }
   },
   "outputs": [],
   "source": [
    "pattern = '^M?M?M?(CM|CD|D?C?C?C?)$' \n",
    "# set of three mutually exclusive patterns, separated by vertical bars\n",
    "# regex parser checks for each of these patterns in order, takes the first one that matches, and ignores the rest. \n",
    "re.search(pattern, 'MMMCCC')     \n",
    "\n",
    "\"\"\"possible patterns:\n",
    "    CM\n",
    "    CD\n",
    "    an optional D, followed by zero to three C characters \"\"\""
   ]
  },
  {
   "cell_type": "code",
   "execution_count": null,
   "metadata": {
    "slideshow": {
     "slide_type": "subslide"
    }
   },
   "outputs": [],
   "source": [
    "pattern = '^M{0,3}$'\n",
    "# Match the start of the string, then anywhere from zero to three M characters, then the end of the string.\n",
    "re.search(pattern, 'MMM') "
   ]
  },
  {
   "cell_type": "code",
   "execution_count": null,
   "metadata": {
    "slideshow": {
     "slide_type": "subslide"
    }
   },
   "outputs": [],
   "source": [
    "pattern = '^M?M?M?(CM|CD|D?C?C?C?)(XC|XL|L?X?X?X?)$'\n",
    ">>> re.search(pattern, 'MCMXL') "
   ]
  },
  {
   "cell_type": "code",
   "execution_count": null,
   "metadata": {
    "slideshow": {
     "slide_type": "subslide"
    }
   },
   "outputs": [],
   "source": [
    "pattern = '^M{0,3}(CM|CD|D?C{0,3})(XC|XL|L?X{0,3})(IX|IV|V?I{0,3})$'\n",
    "re.search(pattern, 'MDLV')      "
   ]
  },
  {
   "cell_type": "code",
   "execution_count": null,
   "metadata": {
    "slideshow": {
     "slide_type": "subslide"
    }
   },
   "outputs": [],
   "source": [
    "re.search(pattern, 'MMMDCCCLXXXVIII') "
   ]
  },
  {
   "cell_type": "code",
   "execution_count": null,
   "metadata": {
    "slideshow": {
     "slide_type": "subslide"
    }
   },
   "outputs": [],
   "source": [
    "pattern = '''\n",
    "    ^                   # beginning of string\n",
    "    M{0,3}              # thousands - 0 to 3 Ms\n",
    "    (CM|CD|D?C{0,3})    # hundreds - 900 (CM), 400 (CD), 0-300 (0 to 3 Cs),\n",
    "                        #            or 500-800 (D, followed by 0 to 3 Cs)\n",
    "    (XC|XL|L?X{0,3})    # tens - 90 (XC), 40 (XL), 0-30 (0 to 3 Xs),\n",
    "                        #        or 50-80 (L, followed by 0 to 3 Xs)\n",
    "    (IX|IV|V?I{0,3})    # ones - 9 (IX), 4 (IV), 0-3 (0 to 3 Is),\n",
    "                        #        or 5-8 (V, followed by 0 to 3 Is)\n",
    "    $                   # end of string\n",
    "    '''\n",
    "re.search(pattern, 'M', re.VERBOSE) "
   ]
  },
  {
   "cell_type": "markdown",
   "metadata": {
    "slideshow": {
     "slide_type": "subslide"
    }
   },
   "source": [
    "\n",
    "    ^ matches the beginning of a string.\n",
    "    $ matches the end of a string.\n",
    "    \\b matches a word boundary.\n",
    "    \\d matches any numeric digit.\n",
    "    \\D matches any non-numeric character.\n",
    "    x? matches an optional x character (in other words, it matches an x zero or one times).\n",
    "    x* matches x zero or more times.\n",
    "    x+ matches x one or more times.\n",
    "    x{n,m} matches an x character at least n times, but not more than m times.\n",
    "    (a|b|c) matches exactly one of a, b or c.\n",
    "    (x) in general is a remembered group. You can get the value of what matched by using the groups() method of the object returned by re.search. "
   ]
  },
  {
   "cell_type": "code",
   "execution_count": 212,
   "metadata": {
    "code_folding": [
     0
    ],
    "hide_input": true,
    "scrolled": true,
    "slideshow": {
     "slide_type": "slide"
    }
   },
   "outputs": [
    {
     "data": {
      "text/html": [
       "<h2>Logic</h2>\n",
       "\n",
       "\n",
       "<table width=\"600\" border=\"0\" style=\"table-layout:fixed;\"><tr><th width=\"100\" scope=\"col\">Logic</th><th width=\"200\" scope=\"col\">Legend</th><th width=\"150\" scope=\"col\">Example</th><th width=\"150\" scope=\"col\">Sample Match</th></tr><tr class=\"wasabi\"><td><span class=\"mono\">|</span></td><td> Alternation / OR operand</td><td>22|33</td><td>33</td></tr><tr class=\"greentea\"><td><span class=\"mono\">( … )</span></td><td>Capturing group</td><td>A(nt|pple)</td><td>Apple (captures \"pple\")</td></tr><tr class=\"wasabi\"><td><span class=\"mono\">\\1</span></td><td>Contents of Group 1</td><td>r(\\w)g\\1x</td><td>regex</td></tr><tr class=\"greentea\"><td><span class=\"mono\">\\2</span></td><td>Contents of Group 2</td><td>(\\d\\d)\\+(\\d\\d)=\\2\\+\\1</td><td>12+65=65+12</td></tr><tr class=\"wasabi\"><td><span class=\"mono\">(?: … )</span></td><td>Non-capturing group</td><td>A(?:nt|pple)</td><td>Apple</td></tr></table>\n"
      ],
      "text/plain": [
       "<IPython.core.display.HTML object>"
      ]
     },
     "metadata": {},
     "output_type": "display_data"
    }
   ],
   "source": [
    "%%html\n",
    "<h2>Logic</h2>\n",
    "\n",
    "\n",
    "<table width=\"600\" border=\"0\" style=\"table-layout:fixed;\"><tr><th width=\"100\" scope=\"col\">Logic</th><th width=\"200\" scope=\"col\">Legend</th><th width=\"150\" scope=\"col\">Example</th><th width=\"150\" scope=\"col\">Sample Match</th></tr><tr class=\"wasabi\"><td><span class=\"mono\">|</span></td><td> Alternation / OR operand</td><td>22|33</td><td>33</td></tr><tr class=\"greentea\"><td><span class=\"mono\">( … )</span></td><td>Capturing group</td><td>A(nt|pple)</td><td>Apple (captures \"pple\")</td></tr><tr class=\"wasabi\"><td><span class=\"mono\">\\1</span></td><td>Contents of Group 1</td><td>r(\\w)g\\1x</td><td>regex</td></tr><tr class=\"greentea\"><td><span class=\"mono\">\\2</span></td><td>Contents of Group 2</td><td>(\\d\\d)\\+(\\d\\d)=\\2\\+\\1</td><td>12+65=65+12</td></tr><tr class=\"wasabi\"><td><span class=\"mono\">(?: … )</span></td><td>Non-capturing group</td><td>A(?:nt|pple)</td><td>Apple</td></tr></table>"
   ]
  },
  {
   "cell_type": "markdown",
   "metadata": {
    "slideshow": {
     "slide_type": "subslide"
    }
   },
   "source": [
    "Parsing Phone Numbers\n",
    "====================="
   ]
  },
  {
   "cell_type": "code",
   "execution_count": null,
   "metadata": {
    "slideshow": {
     "slide_type": "subslide"
    }
   },
   "outputs": [],
   "source": [
    "phonePattern = re.compile(r'^(\\d{3})-(\\d{3})-(\\d{4})$') \n",
    "# \\d means “any numeric digit” (0 through 9). The {3} means “match exactly three numeric digits”\n",
    "# Putting it in parentheses means “match exactly three numeric digits, and then remember them as a group that I can ask for later”. "
   ]
  },
  {
   "cell_type": "code",
   "execution_count": null,
   "metadata": {
    "slideshow": {
     "slide_type": "subslide"
    }
   },
   "outputs": [],
   "source": [
    "phonePattern.search('800-555-1212').groups() "
   ]
  },
  {
   "cell_type": "code",
   "execution_count": null,
   "metadata": {
    "slideshow": {
     "slide_type": "subslide"
    }
   },
   "outputs": [],
   "source": [
    "phonePattern = re.compile(r'^(\\d{3})-(\\d{3})-(\\d{4})-(\\d+)$')\n",
    "# \\d+ remembered group of one or more digits\n",
    "phonePattern.search('800-555-1212-1234').groups() "
   ]
  },
  {
   "cell_type": "code",
   "execution_count": null,
   "metadata": {
    "slideshow": {
     "slide_type": "subslide"
    }
   },
   "outputs": [],
   "source": [
    "phonePattern = re.compile(r'^(\\d{3})\\D+(\\d{3})\\D+(\\d{4})\\D+(\\d+)$')  \n",
    "# \\D+ matches one or more characters that are not digits\n",
    "phonePattern.search('800 555 1212 1234').groups()"
   ]
  },
  {
   "cell_type": "code",
   "execution_count": null,
   "metadata": {
    "slideshow": {
     "slide_type": "subslide"
    }
   },
   "outputs": [],
   "source": [
    "phonePattern = re.compile(r'^(\\d{3})\\D*(\\d{3})\\D*(\\d{4})\\D*(\\d*)$')  \n",
    "# * means “zero or more”.\n",
    "phonePattern.search('80055512121234').groups() "
   ]
  },
  {
   "cell_type": "code",
   "execution_count": null,
   "metadata": {
    "slideshow": {
     "slide_type": "subslide"
    }
   },
   "outputs": [],
   "source": [
    "phonePattern = re.compile(r'^\\D*(\\d{3})\\D*(\\d{3})\\D*(\\d{4})\\D*(\\d*)$')  \n",
    "phonePattern.search('(800)5551212 ext. 1234').groups()"
   ]
  },
  {
   "cell_type": "code",
   "execution_count": null,
   "metadata": {
    "slideshow": {
     "slide_type": "subslide"
    }
   },
   "outputs": [],
   "source": [
    "phonePattern = re.compile(r'(\\d{3})\\D*(\\d{3})\\D*(\\d{4})\\D*(\\d*)$') \n",
    "phonePattern.search('work 1-(800) 555.1212 #1234').groups()  "
   ]
  },
  {
   "cell_type": "code",
   "execution_count": null,
   "metadata": {
    "slideshow": {
     "slide_type": "subslide"
    }
   },
   "outputs": [],
   "source": [
    "phonePattern = re.compile(r'''\n",
    "                # don't match beginning of string, number can start anywhere\n",
    "    (\\d{3})     # area code is 3 digits (e.g. '800')\n",
    "    \\D*         # optional separator is any number of non-digits\n",
    "    (\\d{3})     # trunk is 3 digits (e.g. '555')\n",
    "    \\D*         # optional separator\n",
    "    (\\d{4})     # rest of number is 4 digits (e.g. '1212')\n",
    "    \\D*         # optional separator\n",
    "    (\\d*)       # extension is optional and can be any number of digits\n",
    "    $           # end of string\n",
    "    ''', re.VERBOSE)\n",
    "phonePattern.search('work 1-(800) 555.1212 #1234').groups()"
   ]
  },
  {
   "cell_type": "code",
   "execution_count": 227,
   "metadata": {
    "slideshow": {
     "slide_type": "slide"
    }
   },
   "outputs": [
    {
     "data": {
      "text/plain": [
       "<_sre.SRE_Match object; span=(0, 12), match='marimuumiram'>"
      ]
     },
     "execution_count": 227,
     "metadata": {},
     "output_type": "execute_result"
    }
   ],
   "source": [
    "import re\n",
    "from nltk.corpus import words\n",
    "wds = words.words()\n",
    "len(wds)\n",
    "235786\n",
    "cands = [w for w in wds if re.search('^..j..t..$',w)]\n",
    "cands\n",
    "palindrom = [w for w in wds if re.search(r'^(.)(.).\\2\\1$',w)]\n",
    "palindrom\n",
    "ma_rymu_umiram_foneticky = \"marimuumiram\"\n",
    "re.search(r'^(.)(.)(.)(.)(.)(.)\\6\\5\\4\\3\\2\\1$', ma_rymu_umiram_foneticky)\n"
   ]
  },
  {
   "cell_type": "code",
   "execution_count": 213,
   "metadata": {
    "code_folding": [
     0
    ],
    "hide_input": true,
    "scrolled": true,
    "slideshow": {
     "slide_type": "slide"
    }
   },
   "outputs": [
    {
     "data": {
      "text/html": [
       "<h2>More White-Space</h2>\n",
       "\n",
       "\n",
       "<table width=\"600\" border=\"0\" style=\"table-layout:fixed;\"><tr><th width=\"100\" scope=\"col\">Character</th><th width=\"200\" scope=\"col\">Legend</th><th width=\"150\" scope=\"col\">Example</th><th width=\"150\" scope=\"col\">Sample Match</th></tr><tr class=\"brown\"><td><span class=\"mono\">\\t</span></td><td>Tab</td><td>T\\t\\w{2}</td><td>T&nbsp;&nbsp;&nbsp;&nbsp;&nbsp;ab</td></tr><tr class=\"beige\"><td><span class=\"mono\">\\r</span></td><td>Carriage return character</td><td>see below</td><td></td></tr><tr class=\"brown\"><td><span class=\"mono\">\\n</span></td><td>Line feed character</td><td>see below</td><td></td></tr><tr class=\"beige\"><td><span class=\"mono\">\\r\\n</span></td><td>Line separator on Windows</td><td>AB\\r\\nCD</td><td>AB<br />CD</td></tr><tr class=\"brown\"><td><span class=\"mono\">\\N</span></td><td>Perl, PCRE (C, PHP, R…): one character that is not a line break</td><td>\\N+</td><td>ABC</td></tr><tr class=\"beige\"><td><span class=\"mono\">\\h</span></td><td>Perl, PCRE (C, PHP, R…), Java: one horizontal whitespace character: tab or Unicode space separator</td><td></td><td></td></tr><tr class=\"brown\"><td><span class=\"mono\">\\H</span></td><td>One character that is not a horizontal whitespace</td><td></td><td></td></tr><tr class=\"beige\"><td><span class=\"mono\">\\v</span></td><td>.NET, JavaScript, Python, Ruby: vertical tab</td><td></td><td></td></tr><tr class=\"brown\"><td><span class=\"mono\">\\v</span></td><td>Perl, PCRE (C, PHP, R…), Java: one vertical whitespace character: line feed, carriage return, vertical tab, form feed, paragraph or line separator</td><td></td><td></td></tr><tr class=\"beige\"><td><span class=\"mono\">\\V</span></td><td>Perl, PCRE (C, PHP, R…), Java: any character that is not a vertical whitespace</td><td></td><td></td></tr><tr class=\"brown\"><td><span class=\"mono\">\\R</span></td><td>Perl, PCRE (C, PHP, R…), Java: one line break (carriage return + line feed pair, and all the characters matched by \\v)</td><td></td><td></td></tr></table>\n"
      ],
      "text/plain": [
       "<IPython.core.display.HTML object>"
      ]
     },
     "metadata": {},
     "output_type": "display_data"
    }
   ],
   "source": [
    "%%html\n",
    "<h2>More White-Space</h2>\n",
    "\n",
    "\n",
    "<table width=\"600\" border=\"0\" style=\"table-layout:fixed;\"><tr><th width=\"100\" scope=\"col\">Character</th><th width=\"200\" scope=\"col\">Legend</th><th width=\"150\" scope=\"col\">Example</th><th width=\"150\" scope=\"col\">Sample Match</th></tr><tr class=\"brown\"><td><span class=\"mono\">\\t</span></td><td>Tab</td><td>T\\t\\w{2}</td><td>T&nbsp;&nbsp;&nbsp;&nbsp;&nbsp;ab</td></tr><tr class=\"beige\"><td><span class=\"mono\">\\r</span></td><td>Carriage return character</td><td>see below</td><td></td></tr><tr class=\"brown\"><td><span class=\"mono\">\\n</span></td><td>Line feed character</td><td>see below</td><td></td></tr><tr class=\"beige\"><td><span class=\"mono\">\\r\\n</span></td><td>Line separator on Windows</td><td>AB\\r\\nCD</td><td>AB<br />CD</td></tr><tr class=\"brown\"><td><span class=\"mono\">\\N</span></td><td>Perl, PCRE (C, PHP, R…): one character that is not a line break</td><td>\\N+</td><td>ABC</td></tr><tr class=\"beige\"><td><span class=\"mono\">\\h</span></td><td>Perl, PCRE (C, PHP, R…), Java: one horizontal whitespace character: tab or Unicode space separator</td><td></td><td></td></tr><tr class=\"brown\"><td><span class=\"mono\">\\H</span></td><td>One character that is not a horizontal whitespace</td><td></td><td></td></tr><tr class=\"beige\"><td><span class=\"mono\">\\v</span></td><td>.NET, JavaScript, Python, Ruby: vertical tab</td><td></td><td></td></tr><tr class=\"brown\"><td><span class=\"mono\">\\v</span></td><td>Perl, PCRE (C, PHP, R…), Java: one vertical whitespace character: line feed, carriage return, vertical tab, form feed, paragraph or line separator</td><td></td><td></td></tr><tr class=\"beige\"><td><span class=\"mono\">\\V</span></td><td>Perl, PCRE (C, PHP, R…), Java: any character that is not a vertical whitespace</td><td></td><td></td></tr><tr class=\"brown\"><td><span class=\"mono\">\\R</span></td><td>Perl, PCRE (C, PHP, R…), Java: one line break (carriage return + line feed pair, and all the characters matched by \\v)</td><td></td><td></td></tr></table>"
   ]
  },
  {
   "cell_type": "code",
   "execution_count": 214,
   "metadata": {
    "code_folding": [
     0
    ],
    "hide_input": true,
    "scrolled": true,
    "slideshow": {
     "slide_type": "slide"
    }
   },
   "outputs": [
    {
     "data": {
      "text/html": [
       "<h2>More Quantifiers</h2>\n",
       "\n",
       "\n",
       "<table width=\"600\" border=\"0\" style=\"table-layout:fixed;\"><tr><th width=\"100\" scope=\"col\">Quantifier</th><th width=\"200\" scope=\"col\">Legend</th><th width=\"150\" scope=\"col\">Example</th><th width=\"150\" scope=\"col\">Sample Match</th></tr><tr class=\"wasabi\"><td><span class=\"mono\">+</span></td><td>The + (one or more) is \"greedy\"</td><td>\\d+</td><td>12345</td></tr><tr class=\"greentea\"><td><span class=\"mono\">?</span></td><td>Makes quantifiers \"lazy\"</td><td>\\d+?</td><td>1 in <b>1</b>2345</td></tr><tr class=\"wasabi\"><td><span class=\"mono\">*</span></td><td>The * (zero or more) is \"greedy\"</td><td>A*</td><td>AAA</td></tr><tr class=\"greentea\"><td><span class=\"mono\">?</span></td><td>Makes quantifiers \"lazy\"</td><td>A*?</td><td>empty in AAA</td></tr><tr class=\"wasabi\"><td><span class=\"mono\">{2,4}</span></td><td>Two to four times, \"greedy\"</td><td>\\w{2,4}</td><td>abcd</td></tr><tr class=\"greentea\"><td><span class=\"mono\">?</span></td><td>Makes quantifiers \"lazy\"</td><td>\\w{2,4}?</td><td>ab in <b>ab</b>cd</td></tr></table>\n"
      ],
      "text/plain": [
       "<IPython.core.display.HTML object>"
      ]
     },
     "metadata": {},
     "output_type": "display_data"
    }
   ],
   "source": [
    "%%html\n",
    "<h2>More Quantifiers</h2>\n",
    "\n",
    "\n",
    "<table width=\"600\" border=\"0\" style=\"table-layout:fixed;\"><tr><th width=\"100\" scope=\"col\">Quantifier</th><th width=\"200\" scope=\"col\">Legend</th><th width=\"150\" scope=\"col\">Example</th><th width=\"150\" scope=\"col\">Sample Match</th></tr><tr class=\"wasabi\"><td><span class=\"mono\">+</span></td><td>The + (one or more) is \"greedy\"</td><td>\\d+</td><td>12345</td></tr><tr class=\"greentea\"><td><span class=\"mono\">?</span></td><td>Makes quantifiers \"lazy\"</td><td>\\d+?</td><td>1 in <b>1</b>2345</td></tr><tr class=\"wasabi\"><td><span class=\"mono\">*</span></td><td>The * (zero or more) is \"greedy\"</td><td>A*</td><td>AAA</td></tr><tr class=\"greentea\"><td><span class=\"mono\">?</span></td><td>Makes quantifiers \"lazy\"</td><td>A*?</td><td>empty in AAA</td></tr><tr class=\"wasabi\"><td><span class=\"mono\">{2,4}</span></td><td>Two to four times, \"greedy\"</td><td>\\w{2,4}</td><td>abcd</td></tr><tr class=\"greentea\"><td><span class=\"mono\">?</span></td><td>Makes quantifiers \"lazy\"</td><td>\\w{2,4}?</td><td>ab in <b>ab</b>cd</td></tr></table>"
   ]
  },
  {
   "cell_type": "code",
   "execution_count": null,
   "metadata": {
    "slideshow": {
     "slide_type": "subslide"
    }
   },
   "outputs": [],
   "source": [
    "# minitask 1.1\n",
    "# expected output ['b', '/b', 'i', '/i']\n",
    "import re\n",
    "text = '<b>foo</b> and <i>so on</i>'\n",
    "print(re.findall(r'<.+>',text))\n"
   ]
  },
  {
   "cell_type": "markdown",
   "metadata": {
    "slideshow": {
     "slide_type": "subslide"
    }
   },
   "source": [
    "## re.findall(pattern, string, flags=0)\n",
    "\n",
    "Return all non-overlapping matches of pattern in string, as a list of strings. The string is scanned left-to-right, and matches are returned in the order found. If one or more groups are present in the pattern, return a list of groups; this will be a list of tuples if the pattern has more than one group. Empty matches are included in the result."
   ]
  },
  {
   "cell_type": "code",
   "execution_count": null,
   "metadata": {
    "slideshow": {
     "slide_type": "subslide"
    }
   },
   "outputs": [],
   "source": [
    "# what is the result in the first case: b or ab\n",
    "# what is the result in the second case?\n",
    "import re\n",
    "print(re.search('a??b','aaab').group())\n",
    "print(re.search('a*?b','aaab').group())\n",
    "# regex engine re parses the string from left to right and\n",
    "# returns the first possible match at the leftmost position"
   ]
  },
  {
   "cell_type": "code",
   "execution_count": 215,
   "metadata": {
    "code_folding": [
     0
    ],
    "hide_input": true,
    "slideshow": {
     "slide_type": "slide"
    }
   },
   "outputs": [
    {
     "data": {
      "text/html": [
       "<h2>Character Classes</h2>\n",
       "\n",
       "\n",
       "<table width=\"600\" border=\"0\" style=\"table-layout:fixed;\"><tr><th width=\"100\" scope=\"col\">Character</th><th width=\"200\" scope=\"col\">Legend</th><th width=\"150\" scope=\"col\">Example</th><th width=\"150\" scope=\"col\">Sample Match</th></tr><tr class=\"brown\"><td><span class=\"mono\">[ … ]</span></td><td>One of the characters in the brackets</td><td>[AEIOU]</td><td>One uppercase vowel</td></tr><tr class=\"beige\"><td><span class=\"mono\">[ … ]</span></td><td>One of the characters in the brackets</td><td>T[ao]p</td><td><i>Tap</i> or <i>Top</i></td></tr><tr class=\"brown\"><td><span class=\"mono\">-</span></td><td>Range indicator</td><td>[a-z]</td><td>One lowercase letter</td></tr><tr class=\"beige\"><td><span class=\"mono\">[x-y]</span></td><td>One of the characters in the range from x to y</td><td>[A-Z]+</td><td>GREAT</td></tr><tr class=\"brown\"><td><span class=\"mono\">[ … ]</span></td><td>One of the characters in the brackets</td><td>[AB1-5w-z]</td><td>One of either: A,B,1,2,3,4,5,w,x,y,z</td></tr><tr class=\"beige\"><td><span class=\"mono\">[x-y]</span></td><td>One of the characters in the range from x to y</td><td>[&ensp;-~]+</td><td>Characters in the printable section of the <a href=\"http://www.asciitable.com/\" target=\"_blank\">ASCII table</a>.</td></tr><tr class=\"brown\"><td><span class=\"mono\">[^x]</span></td><td>One character that is not x</td><td>[^a-z]{3}</td><td>A1!</td></tr><tr class=\"beige\"><td><span class=\"mono\">[^x-y]</span></td><td>One of the characters <b>not</b> in the range from x to y</td><td>[^&ensp;-~]+</td><td>Characters that are <b>not</b> in the printable section of the <a href=\"http://www.asciitable.com/\" target=\"_blank\">ASCII table</a>.</td></tr><tr class=\"brown\"><td><span class=\"mono\">[\\d\\D]</span></td><td>One character that is a digit or a non-digit</td><td>[\\d\\D]+</td><td>Any characters, inc-<br />luding new lines, which the regular dot doesn't match</td></tr><tr class=\"beige\"><td><span class=\"mono\">[\\x41]</span></td><td>Matches the character at hexadecimal position 41 in the ASCII table, i.e. A</td><td>[\\x41-\\x45]{3}</td><td>ABE</td></tr></table>\n"
      ],
      "text/plain": [
       "<IPython.core.display.HTML object>"
      ]
     },
     "metadata": {},
     "output_type": "display_data"
    }
   ],
   "source": [
    "%%html\n",
    "<h2>Character Classes</h2>\n",
    "\n",
    "\n",
    "<table width=\"600\" border=\"0\" style=\"table-layout:fixed;\"><tr><th width=\"100\" scope=\"col\">Character</th><th width=\"200\" scope=\"col\">Legend</th><th width=\"150\" scope=\"col\">Example</th><th width=\"150\" scope=\"col\">Sample Match</th></tr><tr class=\"brown\"><td><span class=\"mono\">[ … ]</span></td><td>One of the characters in the brackets</td><td>[AEIOU]</td><td>One uppercase vowel</td></tr><tr class=\"beige\"><td><span class=\"mono\">[ … ]</span></td><td>One of the characters in the brackets</td><td>T[ao]p</td><td><i>Tap</i> or <i>Top</i></td></tr><tr class=\"brown\"><td><span class=\"mono\">-</span></td><td>Range indicator</td><td>[a-z]</td><td>One lowercase letter</td></tr><tr class=\"beige\"><td><span class=\"mono\">[x-y]</span></td><td>One of the characters in the range from x to y</td><td>[A-Z]+</td><td>GREAT</td></tr><tr class=\"brown\"><td><span class=\"mono\">[ … ]</span></td><td>One of the characters in the brackets</td><td>[AB1-5w-z]</td><td>One of either: A,B,1,2,3,4,5,w,x,y,z</td></tr><tr class=\"beige\"><td><span class=\"mono\">[x-y]</span></td><td>One of the characters in the range from x to y</td><td>[&ensp;-~]+</td><td>Characters in the printable section of the <a href=\"http://www.asciitable.com/\" target=\"_blank\">ASCII table</a>.</td></tr><tr class=\"brown\"><td><span class=\"mono\">[^x]</span></td><td>One character that is not x</td><td>[^a-z]{3}</td><td>A1!</td></tr><tr class=\"beige\"><td><span class=\"mono\">[^x-y]</span></td><td>One of the characters <b>not</b> in the range from x to y</td><td>[^&ensp;-~]+</td><td>Characters that are <b>not</b> in the printable section of the <a href=\"http://www.asciitable.com/\" target=\"_blank\">ASCII table</a>.</td></tr><tr class=\"brown\"><td><span class=\"mono\">[\\d\\D]</span></td><td>One character that is a digit or a non-digit</td><td>[\\d\\D]+</td><td>Any characters, inc-<br />luding new lines, which the regular dot doesn't match</td></tr><tr class=\"beige\"><td><span class=\"mono\">[\\x41]</span></td><td>Matches the character at hexadecimal position 41 in the ASCII table, i.e. A</td><td>[\\x41-\\x45]{3}</td><td>ABE</td></tr></table>"
   ]
  },
  {
   "cell_type": "code",
   "execution_count": 216,
   "metadata": {
    "code_folding": [
     0
    ],
    "hide_input": true,
    "slideshow": {
     "slide_type": "slide"
    }
   },
   "outputs": [
    {
     "data": {
      "text/html": [
       "<h2><a href=\"regex-anchors.html\">Anchors</a> and <a href=\"regex-boundaries.html\">Boundaries</a></h2>\n",
       "\n",
       "\n",
       "<table width=\"600\" border=\"0\" style=\"table-layout:fixed;\"><tr><th width=\"100\" scope=\"col\">Anchor</th><th width=\"200\" scope=\"col\">Legend</th><th width=\"150\" scope=\"col\">Example</th><th width=\"150\" scope=\"col\">Sample Match</th></tr><tr class=\"wasabi\"><td><span class=\"mono\">^</span></td><td><a href=\"regex-anchors.html#caret\">Start of string</a> or <a href=\"regex-anchors.html#carmulti\">start of line</a> depending on multiline mode. (But when [^inside brackets], it means \"not\")</td><td>^abc .*</td><td>abc (line start)</td></tr><tr class=\"greentea\"><td><span class=\"mono\">$</span></td><td><a href=\"regex-anchors.html#dollar\">End of string</a> or <a href=\"regex-anchors.html#eol\">end of line</a> depending on multiline mode. Many engine-dependent subtleties.</td><td>.*? the end$</td><td>this is the end</td></tr><tr class=\"wasabi\"><td><span class=\"mono\">\\A</span></td><td><a href=\"regex-anchors.html#A\">Beginning of string</a><br />(all major engines except JS)</td><td>\\Aabc[\\d\\D]*</td><td>abc (string...<br />...start)</td></tr><tr class=\"greentea\"><td><span class=\"mono\">\\z</span></td><td><a href=\"regex-anchors.html#z\">Very end of the string</a><br />Not available in Python and JS</td><td>the end\\z</td><td>this is...\\n...<b>the end</b></td></tr><tr class=\"wasabi\"><td><span class=\"mono\">\\Z</span></td><td><a href=\"regex-anchors.html#Z\">End of string</a> or (except Python) before final line break<br />Not available in JS</td><td>the end\\Z</td><td>this is...\\n...<b>the end</b>\\n</td></tr><tr class=\"greentea\"><td><span class=\"mono\">\\G</span></td><td><a href=\"regex-anchors.html#G\">Beginning of String or End of Previous Match</a><br />\n",
       "\t  .NET, Java, PCRE (C, PHP, R…), Perl, Ruby</td><td></td><td></td></tr><tr class=\"wasabi\"><td><span class=\"mono\">\\b</span></td><td><a href=\"regex-boundaries.html#wordboundary\">Word boundary</a><br /> Most engines: position where one side only is an ASCII letter, digit or underscore</td><td>Bob.*\\bcat\\b</td><td>Bob ate the cat</td></tr><tr class=\"greentea\"><td><span class=\"mono\">\\b</span></td><td><a href=\"regex-boundaries.html#wordboundary\">Word boundary</a><br />.NET, Java, Python 3, Ruby: position where one side only is a Unicode letter, digit or underscore</td><td>Bob.*\\b\\кошка\\b</td><td>Bob ate the кошка</td></tr><tr class=\"wasabi\"><td><span class=\"mono\">\\B</span></td><td><a href=\"regex-boundaries.html#notb\">Not a word boundary</a></td><td>c.*\\Bcat\\B.*</td><td>copycats</td></tr></table>\n"
      ],
      "text/plain": [
       "<IPython.core.display.HTML object>"
      ]
     },
     "metadata": {},
     "output_type": "display_data"
    }
   ],
   "source": [
    "%%html\n",
    "<h2><a href=\"regex-anchors.html\">Anchors</a> and <a href=\"regex-boundaries.html\">Boundaries</a></h2>\n",
    "\n",
    "\n",
    "<table width=\"600\" border=\"0\" style=\"table-layout:fixed;\"><tr><th width=\"100\" scope=\"col\">Anchor</th><th width=\"200\" scope=\"col\">Legend</th><th width=\"150\" scope=\"col\">Example</th><th width=\"150\" scope=\"col\">Sample Match</th></tr><tr class=\"wasabi\"><td><span class=\"mono\">^</span></td><td><a href=\"regex-anchors.html#caret\">Start of string</a> or <a href=\"regex-anchors.html#carmulti\">start of line</a> depending on multiline mode. (But when [^inside brackets], it means \"not\")</td><td>^abc .*</td><td>abc (line start)</td></tr><tr class=\"greentea\"><td><span class=\"mono\">$</span></td><td><a href=\"regex-anchors.html#dollar\">End of string</a> or <a href=\"regex-anchors.html#eol\">end of line</a> depending on multiline mode. Many engine-dependent subtleties.</td><td>.*? the end$</td><td>this is the end</td></tr><tr class=\"wasabi\"><td><span class=\"mono\">\\A</span></td><td><a href=\"regex-anchors.html#A\">Beginning of string</a><br />(all major engines except JS)</td><td>\\Aabc[\\d\\D]*</td><td>abc (string...<br />...start)</td></tr><tr class=\"greentea\"><td><span class=\"mono\">\\z</span></td><td><a href=\"regex-anchors.html#z\">Very end of the string</a><br />Not available in Python and JS</td><td>the end\\z</td><td>this is...\\n...<b>the end</b></td></tr><tr class=\"wasabi\"><td><span class=\"mono\">\\Z</span></td><td><a href=\"regex-anchors.html#Z\">End of string</a> or (except Python) before final line break<br />Not available in JS</td><td>the end\\Z</td><td>this is...\\n...<b>the end</b>\\n</td></tr><tr class=\"greentea\"><td><span class=\"mono\">\\G</span></td><td><a href=\"regex-anchors.html#G\">Beginning of String or End of Previous Match</a><br />\n",
    "\t  .NET, Java, PCRE (C, PHP, R…), Perl, Ruby</td><td></td><td></td></tr><tr class=\"wasabi\"><td><span class=\"mono\">\\b</span></td><td><a href=\"regex-boundaries.html#wordboundary\">Word boundary</a><br /> Most engines: position where one side only is an ASCII letter, digit or underscore</td><td>Bob.*\\bcat\\b</td><td>Bob ate the cat</td></tr><tr class=\"greentea\"><td><span class=\"mono\">\\b</span></td><td><a href=\"regex-boundaries.html#wordboundary\">Word boundary</a><br />.NET, Java, Python 3, Ruby: position where one side only is a Unicode letter, digit or underscore</td><td>Bob.*\\b\\кошка\\b</td><td>Bob ate the кошка</td></tr><tr class=\"wasabi\"><td><span class=\"mono\">\\B</span></td><td><a href=\"regex-boundaries.html#notb\">Not a word boundary</a></td><td>c.*\\Bcat\\B.*</td><td>copycats</td></tr></table>"
   ]
  },
  {
   "cell_type": "code",
   "execution_count": 217,
   "metadata": {
    "code_folding": [
     0
    ],
    "hide_input": true,
    "slideshow": {
     "slide_type": "slide"
    }
   },
   "outputs": [
    {
     "data": {
      "text/html": [
       "<h2>POSIX Classes</h2>\n",
       "\n",
       "<table width=\"600\" border=\"0\" style=\"table-layout:fixed;\"><tr><th width=\"100\" scope=\"col\">Character</th><th width=\"200\" scope=\"col\">Legend</th><th width=\"150\" scope=\"col\">Example</th><th width=\"150\" scope=\"col\">Sample Match</th></tr><tr class=\"brown\"><td><span class=\"mono\">[:alpha:]</span></td><td>PCRE (C, PHP, R…): ASCII letters A-Z and a-z</td><td>[8[:alpha:]]+</td><td>WellDone88</td></tr><tr class=\"beige\"><td><span class=\"mono\">[:alpha:]</span></td><td>Ruby 2: Unicode letter or ideogram</td><td>[[:alpha:]\\d]+</td><td>кошка99</td></tr><tr class=\"brown\"><td><span class=\"mono\">[:alnum:]</span></td><td>PCRE (C, PHP, R…): ASCII digits and letters A-Z and a-z</td><td>[[:alnum:]]{10}</td><td>ABCDE12345</td></tr><tr class=\"beige\"><td><span class=\"mono\">[:alnum:]</span></td><td>Ruby 2: Unicode digit, letter or ideogram</td><td>[[:alnum:]]{10}</td><td>кошка90210</td></tr><tr class=\"brown\"><td><span class=\"mono\">[:punct:]</span></td><td>PCRE (C, PHP, R…): ASCII punctuation mark</td><td>[[:punct:]]+</td><td>?!.,:;</td></tr><tr class=\"beige\"><td><span class=\"mono\">[:punct:]</span></td><td>Ruby: Unicode punctuation mark</td><td>[[:punct:]]+</td><td>‽,:〽⁆</td></tr></table>\n"
      ],
      "text/plain": [
       "<IPython.core.display.HTML object>"
      ]
     },
     "metadata": {},
     "output_type": "display_data"
    }
   ],
   "source": [
    "%%html\n",
    "<h2>POSIX Classes</h2>\n",
    "\n",
    "<table width=\"600\" border=\"0\" style=\"table-layout:fixed;\"><tr><th width=\"100\" scope=\"col\">Character</th><th width=\"200\" scope=\"col\">Legend</th><th width=\"150\" scope=\"col\">Example</th><th width=\"150\" scope=\"col\">Sample Match</th></tr><tr class=\"brown\"><td><span class=\"mono\">[:alpha:]</span></td><td>PCRE (C, PHP, R…): ASCII letters A-Z and a-z</td><td>[8[:alpha:]]+</td><td>WellDone88</td></tr><tr class=\"beige\"><td><span class=\"mono\">[:alpha:]</span></td><td>Ruby 2: Unicode letter or ideogram</td><td>[[:alpha:]\\d]+</td><td>кошка99</td></tr><tr class=\"brown\"><td><span class=\"mono\">[:alnum:]</span></td><td>PCRE (C, PHP, R…): ASCII digits and letters A-Z and a-z</td><td>[[:alnum:]]{10}</td><td>ABCDE12345</td></tr><tr class=\"beige\"><td><span class=\"mono\">[:alnum:]</span></td><td>Ruby 2: Unicode digit, letter or ideogram</td><td>[[:alnum:]]{10}</td><td>кошка90210</td></tr><tr class=\"brown\"><td><span class=\"mono\">[:punct:]</span></td><td>PCRE (C, PHP, R…): ASCII punctuation mark</td><td>[[:punct:]]+</td><td>?!.,:;</td></tr><tr class=\"beige\"><td><span class=\"mono\">[:punct:]</span></td><td>Ruby: Unicode punctuation mark</td><td>[[:punct:]]+</td><td>‽,:〽⁆</td></tr></table>"
   ]
  },
  {
   "cell_type": "code",
   "execution_count": 218,
   "metadata": {
    "code_folding": [
     0
    ],
    "hide_input": true,
    "slideshow": {
     "slide_type": "slide"
    }
   },
   "outputs": [
    {
     "data": {
      "text/html": [
       "<h2><a href=\"regex-modifiers.html\">Inline Modifiers</a></h2>\n",
       "\n",
       "\n",
       "None of these are supported in JavaScript. In Ruby, beware of <span class=\"socode\">(?s)</span> and <span class=\"socode\">(?m)</span>.\n",
       "<br />\n",
       "<table width=\"600\" border=\"0\" style=\"table-layout:fixed;\"><tr><th width=\"100\" scope=\"col\">Modifier</th><th width=\"200\" scope=\"col\">Legend</th><th width=\"150\" scope=\"col\">Example</th><th width=\"150\" scope=\"col\">Sample Match</th></tr><tr class=\"wasabi\"><td><span class=\"mono\">(?i)</span></td><td><a href=\"regex-modifiers.html#i\">Case-insensitive mode</a><br />\n",
       "(except JavaScript)</td><td>(?i)Monday</td><td>monDAY</td></tr><tr class=\"greentea\"><td><span class=\"mono\">(?s)</span></td><td><a href=\"regex-modifiers.html#dotall\">DOTALL mode</a> (except JS and Ruby). The dot (.) matches new line characters (\\r\\n). Also known as \"single-line mode\" because the dot treats the entire input as a single line</td><td>(?s)From A.*to Z</td><td>From A<br />to Z</td></tr><tr class=\"wasabi\"><td><span class=\"mono\">(?m)</span></td><td><a href=\"regex-modifiers.html#multiline\">Multiline mode</a><br />\n",
       "(except Ruby and JS) ^ and $ match at the beginning and end of every line</td><td>(?m)1\\r\\n^2$\\r\\n^3$</td><td>1<br />2<br />3</td></tr><tr class=\"greentea\"><td><span class=\"mono\">(?m)</span></td><td><a href=\"regex-modifiers.html#rubym\">In Ruby</a>: the same as (?s) in other engines, i.e. DOTALL mode, i.e. dot matches line breaks</td><td>(?m)From A.*to Z</td><td>From A<br />to Z</td></tr><tr class=\"wasabi\"><td><span class=\"mono\">(?x)</span></td><td><a href=\"regex-modifiers.html#freespacing\">Free-Spacing Mode mode</a><br />\n",
       "(except JavaScript). Also known as comment mode or whitespace mode</td><td>(?x) # this is a<br /># comment<br />abc # write on multiple<br /># lines<br />[ ]d # spaces must be<br /># in brackets</td><td>abc d</td></tr><tr class=\"greentea\"><td><span class=\"mono\">(?n)</span></td><td><a href=\"regex-modifiers.html#n\">.NET: named capture only</a></td><td>Turns all (parentheses) into non-capture groups. To capture, use <a href=\"regex-capture.html#namedgroups\">named groups</a>.</td><td></td></tr><tr class=\"wasabi\"><td><span class=\"mono\">(?d)</span></td><td><a href=\"regex-modifiers.html#d\">Java: Unix linebreaks only</a></td><td>The dot and the ^ and $ anchors are only affected by \\n</td><td></td></tr></table>\n"
      ],
      "text/plain": [
       "<IPython.core.display.HTML object>"
      ]
     },
     "metadata": {},
     "output_type": "display_data"
    }
   ],
   "source": [
    "%%html\n",
    "<h2><a href=\"regex-modifiers.html\">Inline Modifiers</a></h2>\n",
    "\n",
    "\n",
    "None of these are supported in JavaScript. In Ruby, beware of <span class=\"socode\">(?s)</span> and <span class=\"socode\">(?m)</span>.\n",
    "<br />\n",
    "<table width=\"600\" border=\"0\" style=\"table-layout:fixed;\"><tr><th width=\"100\" scope=\"col\">Modifier</th><th width=\"200\" scope=\"col\">Legend</th><th width=\"150\" scope=\"col\">Example</th><th width=\"150\" scope=\"col\">Sample Match</th></tr><tr class=\"wasabi\"><td><span class=\"mono\">(?i)</span></td><td><a href=\"regex-modifiers.html#i\">Case-insensitive mode</a><br />\n",
    "(except JavaScript)</td><td>(?i)Monday</td><td>monDAY</td></tr><tr class=\"greentea\"><td><span class=\"mono\">(?s)</span></td><td><a href=\"regex-modifiers.html#dotall\">DOTALL mode</a> (except JS and Ruby). The dot (.) matches new line characters (\\r\\n). Also known as \"single-line mode\" because the dot treats the entire input as a single line</td><td>(?s)From A.*to Z</td><td>From A<br />to Z</td></tr><tr class=\"wasabi\"><td><span class=\"mono\">(?m)</span></td><td><a href=\"regex-modifiers.html#multiline\">Multiline mode</a><br />\n",
    "(except Ruby and JS) ^ and $ match at the beginning and end of every line</td><td>(?m)1\\r\\n^2$\\r\\n^3$</td><td>1<br />2<br />3</td></tr><tr class=\"greentea\"><td><span class=\"mono\">(?m)</span></td><td><a href=\"regex-modifiers.html#rubym\">In Ruby</a>: the same as (?s) in other engines, i.e. DOTALL mode, i.e. dot matches line breaks</td><td>(?m)From A.*to Z</td><td>From A<br />to Z</td></tr><tr class=\"wasabi\"><td><span class=\"mono\">(?x)</span></td><td><a href=\"regex-modifiers.html#freespacing\">Free-Spacing Mode mode</a><br />\n",
    "(except JavaScript). Also known as comment mode or whitespace mode</td><td>(?x) # this is a<br /># comment<br />abc # write on multiple<br /># lines<br />[ ]d # spaces must be<br /># in brackets</td><td>abc d</td></tr><tr class=\"greentea\"><td><span class=\"mono\">(?n)</span></td><td><a href=\"regex-modifiers.html#n\">.NET: named capture only</a></td><td>Turns all (parentheses) into non-capture groups. To capture, use <a href=\"regex-capture.html#namedgroups\">named groups</a>.</td><td></td></tr><tr class=\"wasabi\"><td><span class=\"mono\">(?d)</span></td><td><a href=\"regex-modifiers.html#d\">Java: Unix linebreaks only</a></td><td>The dot and the ^ and $ anchors are only affected by \\n</td><td></td></tr></table>"
   ]
  },
  {
   "cell_type": "code",
   "execution_count": 219,
   "metadata": {
    "code_folding": [],
    "hide_input": true,
    "scrolled": true,
    "slideshow": {
     "slide_type": "slide"
    }
   },
   "outputs": [
    {
     "data": {
      "text/html": [
       "<h2><a href=\"regex-lookarounds.html\">Lookarounds Zero-Length Assertions</a></h2>\n",
       "\n",
       "\n",
       "<table width=\"600\" border=\"0\" style=\"table-layout:fixed;\"><tr><th width=\"100\" scope=\"col\">Lookaround</th><th width=\"200\" scope=\"col\">Legend</th><th width=\"150\" scope=\"col\">Example</th><th width=\"150\" scope=\"col\">Sample Match</th></tr><tr class=\"brown\"><td><span class=\"mono\">(?=…)</span></td><td><a href=\"regex-disambiguation.html#lookahead\">Positive lookahead</a></td><td>(?=\\d{10})\\d{5}</td><td>01234 in <b>01234</b>56789</td></tr><tr class=\"beige\"><td><span class=\"mono\">(?&lt;=…)</span></td><td><a href=\"regex-disambiguation.html#lookbehind\">Positive lookbehind</a></td><td>(?&lt;=\\d)cat</td><td>cat in 1<b>cat</b></td></tr><tr class=\"brown\"><td><span class=\"mono\">(?!…)</span></td><td><a href=\"regex-disambiguation.html#negative-lookahead\">Negative lookahead</a></td><td>(?!theatre)the\\w+</td><td>theme</td></tr><tr class=\"beige\"><td><span class=\"mono\">(?&lt;!…)</span></td><td><a href=\"regex-disambiguation.html#negative-lookbehind\">Negative lookbehind</a></td><td>\\w{3}(?&lt;!mon)ster</td><td>Munster</td></tr></table>\n"
      ],
      "text/plain": [
       "<IPython.core.display.HTML object>"
      ]
     },
     "metadata": {},
     "output_type": "display_data"
    }
   ],
   "source": [
    "%%html\n",
    "<h2><a href=\"regex-lookarounds.html\">Lookarounds Zero-Length Assertions</a></h2>\n",
    "\n",
    "\n",
    "<table width=\"600\" border=\"0\" style=\"table-layout:fixed;\"><tr><th width=\"100\" scope=\"col\">Lookaround</th><th width=\"200\" scope=\"col\">Legend</th><th width=\"150\" scope=\"col\">Example</th><th width=\"150\" scope=\"col\">Sample Match</th></tr><tr class=\"brown\"><td><span class=\"mono\">(?=…)</span></td><td><a href=\"regex-disambiguation.html#lookahead\">Positive lookahead</a></td><td>(?=\\d{10})\\d{5}</td><td>01234 in <b>01234</b>56789</td></tr><tr class=\"beige\"><td><span class=\"mono\">(?&lt;=…)</span></td><td><a href=\"regex-disambiguation.html#lookbehind\">Positive lookbehind</a></td><td>(?&lt;=\\d)cat</td><td>cat in 1<b>cat</b></td></tr><tr class=\"brown\"><td><span class=\"mono\">(?!…)</span></td><td><a href=\"regex-disambiguation.html#negative-lookahead\">Negative lookahead</a></td><td>(?!theatre)the\\w+</td><td>theme</td></tr><tr class=\"beige\"><td><span class=\"mono\">(?&lt;!…)</span></td><td><a href=\"regex-disambiguation.html#negative-lookbehind\">Negative lookbehind</a></td><td>\\w{3}(?&lt;!mon)ster</td><td>Munster</td></tr></table>"
   ]
  },
  {
   "cell_type": "markdown",
   "metadata": {
    "slideshow": {
     "slide_type": "subslide"
    }
   },
   "source": [
    "## Look ahead\n",
    "* https://docs.python.org/3/howto/regex.html#lookahead-assertions\n",
    "\n",
    "<dl class=\"docutils\">\n",
    "<dt><tt class=\"docutils literal\"><span class=\"pre\">(?=...)</span></tt></dt>\n",
    "<dd>Positive lookahead assertion.  This succeeds if the contained regular\n",
    "expression, represented here by <tt class=\"docutils literal\"><span class=\"pre\">...</span></tt>, successfully matches at the current\n",
    "location, and fails otherwise. But, once the contained expression has been\n",
    "tried, the matching engine doesn’t advance at all; the rest of the pattern is\n",
    "tried right where the assertion started.</dd>"
   ]
  },
  {
   "cell_type": "markdown",
   "metadata": {
    "slideshow": {
     "slide_type": "subslide"
    }
   },
   "source": [
    "<dt><tt class=\"docutils literal\"><span class=\"pre\">(?!...)</span></tt></dt>\n",
    "<dd>Negative lookahead assertion.  This is the opposite of the positive assertion;\n",
    "it succeeds if the contained expression <em>doesn’t</em> match at the current position\n",
    "in the string.</dd>\n",
    "</dl>\n",
    "\n",
    "* `.*[.].*$` Match filenames with an extension like `auto.bat`, `slide.ipynb`\n",
    "* Suppose you do not want to match `.bat` files\n",
    "* `.*[.](?!bat$).*$`"
   ]
  },
  {
   "cell_type": "markdown",
   "metadata": {
    "slideshow": {
     "slide_type": "slide"
    }
   },
   "source": [
    "## Examples\n",
    "\n",
    "1. The password must have between six and ten word characters \\w\n",
    "2. It must include at least one lowercase character [a-z]\n",
    "3. It must include at least three uppercase characters [A-Z]\n",
    "4. It must include at least one digit \\d"
   ]
  },
  {
   "cell_type": "code",
   "execution_count": null,
   "metadata": {
    "slideshow": {
     "slide_type": "subslide"
    }
   },
   "outputs": [],
   "source": [
    "import re\n",
    "passwd = 'apBDpleA5'\n",
    "regex = re.compile(r'''\\A # beginning of the string\n",
    "                   (?=[^a-z]*[a-z]) # at least one lowercase chars\n",
    "                   (?=(?:[^A-Z]*[A-Z]){3}) # at least three uppercase chars\n",
    "                   (?=\\D*\\d) # at least one digit \\d\n",
    "                   \\w{6,10} # match the string between six and ten word chars\n",
    "                   \\b # word boundary''', re.X)\n",
    "if regex.search(passwd):\n",
    "\tprint (\"Yes\")\n",
    "else:\n",
    "\tprint (\"No\")\n"
   ]
  },
  {
   "cell_type": "code",
   "execution_count": 228,
   "metadata": {
    "code_folding": [],
    "slideshow": {
     "slide_type": "subslide"
    }
   },
   "outputs": [
    {
     "name": "stdout",
     "output_type": "stream",
     "text": [
      "['resource load failed', 'authentication failed', 'flow failed']\n"
     ]
    }
   ],
   "source": [
    "# minitask 1.2\n",
    "# expected output ['resource load failed', 'flow failed']\n",
    "import re\n",
    "text = '''\n",
    "INFO 2019-02-17 12:13:44 resource load failed\n",
    "INFO 2019-02-18 22:09:17 authentication failed\n",
    "INFO 2019-02-18 10:55:48 data received\n",
    "INFO 2019-02-19 19:53:31 flow failed\n",
    "'''\n",
    "pattern = '''\n",
    "    \\w+                 # failure type\n",
    "    \\s                  # a white character\n",
    "    [\\d-]+              # date such as 2019-02-21\n",
    "    \\s                  # a white character\n",
    "    [\\d:]+              # time such as 21:15:06\n",
    "    \\s                  # a white character\n",
    "    (.*\\sfailed)        # failure description\n",
    "'''\n",
    "print(re.findall(pattern,text, re.VERBOSE))\n"
   ]
  },
  {
   "cell_type": "code",
   "execution_count": null,
   "metadata": {
    "code_folding": [],
    "slideshow": {
     "slide_type": "subslide"
    }
   },
   "outputs": [],
   "source": [
    "import re\n",
    "pattern = re.compile(r'\\b(?!958)\\d{3}\\b')\n",
    "text = \"123\\n235\\n456\\n1000\\n957 958 959 960\\n  909\\n915 916\"\n",
    "print(re.findall(pattern, text))\n"
   ]
  },
  {
   "cell_type": "code",
   "execution_count": 233,
   "metadata": {
    "code_folding": [],
    "slideshow": {
     "slide_type": "subslide"
    }
   },
   "outputs": [
    {
     "name": "stdout",
     "output_type": "stream",
     "text": [
      "DU DU DU\n",
      "DU po leDU\n",
      "dopřeDU DU\n",
      "i dozaDU DU\n",
      "DUDU DUpl\n"
     ]
    }
   ],
   "source": [
    "# minitask 1.3\n",
    "# change the last du to DU\n",
    "# expected output ['resource load failed', 'flow failed']import re\n",
    "pattern = re.compile(r'du')\n",
    "text = ['du du du', 'du po ledu', 'dopředu du', 'i dozadu du', 'dudu dupl']\n",
    "for row in text:\n",
    "    print(re.sub(pattern, 'DU', row))"
   ]
  },
  {
   "cell_type": "code",
   "execution_count": null,
   "metadata": {
    "code_folding": [],
    "slideshow": {
     "slide_type": "subslide"
    }
   },
   "outputs": [],
   "source": [
    "import re\n",
    "text = 'BM25'\n",
    "pattern = r'B(?=2)'\n",
    "if re.search(pattern, text):\n",
    "    print (\"Yes\")\n",
    "else:\n",
    "    print (\"No\")"
   ]
  },
  {
   "cell_type": "code",
   "execution_count": null,
   "metadata": {
    "code_folding": [],
    "slideshow": {
     "slide_type": "subslide"
    }
   },
   "outputs": [],
   "source": [
    "import re\n",
    "text = 'BM25'\n",
    "pattern = r'B(?=[^2]*2)'\n",
    "if re.search(pattern, text):\n",
    "    print (\"Yes\")\n",
    "else:\n",
    "    print (\"No\")"
   ]
  },
  {
   "cell_type": "code",
   "execution_count": null,
   "metadata": {
    "code_folding": [],
    "slideshow": {
     "slide_type": "subslide"
    }
   },
   "outputs": [],
   "source": [
    "import re\n",
    "text = 'B52'\n",
    "pattern = r'B(?=5)(?=2)'\n",
    "if re.search(pattern, text):\n",
    "    print (\"Yes\")\n",
    "else:\n",
    "    print (\"No\")"
   ]
  },
  {
   "cell_type": "code",
   "execution_count": null,
   "metadata": {
    "code_folding": [],
    "slideshow": {
     "slide_type": "subslide"
    }
   },
   "outputs": [],
   "source": [
    "import re\n",
    "text = 'B52'\n",
    "pattern = r'B(?=5)(?=[^2]*2)'\n",
    "if re.search(pattern, text):\n",
    "    print (\"Yes\")\n",
    "else:\n",
    "    print (\"No\")"
   ]
  },
  {
   "cell_type": "code",
   "execution_count": 235,
   "metadata": {
    "slideshow": {
     "slide_type": "subslide"
    }
   },
   "outputs": [
    {
     "name": "stdout",
     "output_type": "stream",
     "text": [
      "David Petr\n",
      "Iva Pavel David Ada\n",
      "Davidson Pavelek\n",
      "Pavel David Jansen\n"
     ]
    }
   ],
   "source": [
    "# minitask 1.4\n",
    "# strings/lines that contain _words_ David and Pavel and \n",
    "# do not contain neither _words_ Petr nor Jan\n",
    "# expected output:\n",
    "# Iva Pavel David Ada\n",
    "# Pavel David Jansen\n",
    "texts = ['David Petr','Iva Pavel David Ada',\n",
    "         'Davidson Pavelek','Pavel David Jansen']\n",
    "for text in texts:\n",
    "    if re.search(r'^.*$',text):\n",
    "        print(text)"
   ]
  },
  {
   "cell_type": "markdown",
   "metadata": {
    "slideshow": {
     "slide_type": "subslide"
    }
   },
   "source": [
    "## Positive lookbehind assertion\n",
    "<dl class=\"docutils\">\n",
    "<dt><tt class=\"docutils literal\"><span class=\"pre\">(?<=...)</span></tt></dt>\n",
    "<dd>Matches if the current position in the string is preceded by a match for ... that ends at the current position. This is called a positive lookbehind assertion. (?<=abc)def will find a match in 'abcdef', since the lookbehind will back up 3 characters and check if the contained pattern matches. The contained pattern must only match strings of some fixed length, meaning that abc or a|b are allowed, but a* and a{3,4} are not. Note that patterns which start with positive lookbehind assertions will not match at the beginning of the string being searched; you will most likely want to use the search() function rather than the match() function</dd>"
   ]
  },
  {
   "cell_type": "code",
   "execution_count": null,
   "metadata": {
    "slideshow": {
     "slide_type": "subslide"
    }
   },
   "outputs": [],
   "source": [
    "import re\n",
    "m = re.search('(?<=abc)def', 'abcdef')\n",
    "m.group(0)"
   ]
  },
  {
   "cell_type": "markdown",
   "metadata": {
    "slideshow": {
     "slide_type": "subslide"
    }
   },
   "source": [
    "## Negative lookbehind assertion\n",
    "<dl class=\"docutils\">\n",
    "<dt><tt class=\"docutils literal\"><span class=\"pre\">(?<!...)</span></tt></dt>\n",
    "<dd>Matches if the current position in the string is not preceded by a match for .... This is called a negative lookbehind assertion. Similar to positive lookbehind assertions, the contained pattern must only match strings of some fixed length. Patterns which start with negative lookbehind assertions may match at the beginning of the string being searched.</dd>"
   ]
  },
  {
   "cell_type": "code",
   "execution_count": null,
   "metadata": {
    "slideshow": {
     "slide_type": "subslide"
    }
   },
   "outputs": [],
   "source": [
    "import re\n",
    "print(re.sub(r'(?<!\\b)(?=(\\d{3})+\\b)', '.', \"it is 12345673456456456 and 1000 and 500\"))"
   ]
  },
  {
   "cell_type": "markdown",
   "metadata": {
    "slideshow": {
     "slide_type": "slide"
    }
   },
   "source": [
    "## RegEx Golf\n",
    "[http://regex.alf.nu/]\n",
    "\n",
    "Prime number of characters?"
   ]
  },
  {
   "cell_type": "code",
   "execution_count": null,
   "metadata": {
    "slideshow": {
     "slide_type": "fragment"
    }
   },
   "outputs": [],
   "source": [
    "import re\n",
    "prime = 'xxxxx'\n",
    "nonprime = 'xxxxxx'\n",
    "regex = re.compile(r'^(?!(..+)\\1+$)')\n",
    "factor = 25\n",
    "regex = r'a?'*factor + 'a'*factor\n",
    "print('regex =', regex)\n",
    "many_a = 'a'*factor\n",
    "print('many_a =', many_a)\n",
    "regex = re.compile(regex)\n",
    "regex.search(many_a)\n",
    "print(regex.search(nonprime))\n",
    "print(regex.search(prime))"
   ]
  },
  {
   "cell_type": "code",
   "execution_count": null,
   "metadata": {
    "slideshow": {
     "slide_type": "subslide"
    }
   },
   "outputs": [],
   "source": [
    "import re\n",
    "factor = 25\n",
    "regex = r'a?'*factor + 'a'*factor\n",
    "print(regex)\n",
    "many_a = 'a'*factor\n",
    "print(many_a)\n",
    "regex = re.compile(regex)\n",
    "regex.search(many_a)"
   ]
  },
  {
   "cell_type": "code",
   "execution_count": null,
   "metadata": {
    "slideshow": {
     "slide_type": "subslide"
    }
   },
   "outputs": [],
   "source": [
    "import re\n",
    "text = 'item 6 is OK; item 1) not; but what about 3 a (i)'\n",
    "regex = re.compile(r'\\d\\s*(?![()])')\n",
    "for match in regex.finditer(text):\n",
    "    print(match)"
   ]
  },
  {
   "cell_type": "code",
   "execution_count": null,
   "metadata": {
    "slideshow": {
     "slide_type": "subslide"
    }
   },
   "outputs": [],
   "source": [
    "import re\n",
    "text = '12345'\n",
    "regex = re.compile(r'1+|[0–9]+')\n",
    "print(regex.search(text))"
   ]
  },
  {
   "cell_type": "markdown",
   "metadata": {
    "slideshow": {
     "slide_type": "slide"
    }
   },
   "source": [
    "## The Best Regex Trick\n",
    "[http://www.rexegg.com/regex-best-trick.html]\n",
    "\n",
    "Task: match *Tarzan* except when this exact word is in double-quotes. In other words, we want to exclude *\"Tarzan\"*. \n",
    "\n",
    "(?<!\")Tarzan|Tarzan(?!\")\n",
    "\n",
    "\"Tarzan\"|(Tarzan)\n",
    "\n",
    "Now Tarzan says to Jane: \"Tarzan\"."
   ]
  },
  {
   "cell_type": "code",
   "execution_count": null,
   "metadata": {
    "slideshow": {
     "slide_type": "subslide"
    }
   },
   "outputs": [],
   "source": [
    "import re\n",
    "text = '\"Tarzan and Jane\": Now Tarzan says to Jane: \"Tarzan\" and \"John and Tarzan\"'\n",
    "regex = re.compile(r'(?<!\"(?=Tarzan\"))Tarzan')\n",
    "for match in regex.finditer(text):\n",
    "    print(match)"
   ]
  },
  {
   "cell_type": "code",
   "execution_count": null,
   "metadata": {
    "slideshow": {
     "slide_type": "subslide"
    }
   },
   "outputs": [],
   "source": [
    "import re\n",
    "text = '\"Tarzan and Jane\": Now Tarzan says to Jane: \"Tarzan\" and \"John an Tarzan\"'\n",
    "regex = re.compile(r'Tarzan(?!\"(?<=\"Tarzan\"))')\n",
    "for match in regex.finditer(text):\n",
    "    print(match)"
   ]
  },
  {
   "cell_type": "code",
   "execution_count": null,
   "metadata": {
    "slideshow": {
     "slide_type": "subslide"
    }
   },
   "outputs": [],
   "source": [
    "    import re\n",
    "    text = '\"Tarzan and Jane\": Now Tarzan says to Jane: \"Tarzan\" and \"John an Tarzan\"'\n",
    "    regex = re.compile(r'(?<!\")Tarzan|Tarzan(?!\")')\n",
    "    for match in regex.finditer(text):\n",
    "        print(match)"
   ]
  },
  {
   "cell_type": "code",
   "execution_count": null,
   "metadata": {
    "slideshow": {
     "slide_type": "subslide"
    }
   },
   "outputs": [],
   "source": [
    "import re\n",
    "text = '\"Tarzan and Jane\": Now Tarzan says to Jane: \"Tarzan\" and \"John an Tarzan\"'\n",
    "regex = re.compile(r'\"Tarzan\"|(Tarzan)')\n",
    "for match in regex.finditer(text):\n",
    "    print(match.group(1))\n",
    "print('just the \"correct\" matches:')\n",
    "for match in regex.finditer(text):\n",
    "    correct = match.group(1)\n",
    "    if correct:\n",
    "        print(correct)    "
   ]
  },
  {
   "cell_type": "markdown",
   "metadata": {
    "slideshow": {
     "slide_type": "slide"
    }
   },
   "source": [
    "## Think about backtracking"
   ]
  },
  {
   "cell_type": "code",
   "execution_count": null,
   "metadata": {
    "slideshow": {
     "slide_type": "fragment"
    }
   },
   "outputs": [],
   "source": [
    "import re\n",
    "pattern = r'^(.*?,){11}x'\n",
    "ok = '1,2,3,4,5,6,7,8,9,10,11,x12'\n",
    "bad = '1,2,3,4,5,6,7,8,9,10,11,12'\n",
    "%timeit re.search(pattern, ok)\n",
    "\n",
    "#Runaway Regular Expressions: Catastrophic Backtracking"
   ]
  },
  {
   "cell_type": "code",
   "execution_count": null,
   "metadata": {
    "slideshow": {
     "slide_type": "subslide"
    }
   },
   "outputs": [],
   "source": [
    "import re\n",
    "print(re.sub('', 'a', '12345'))\n",
    "inbetween = re.compile(r'''(?<=\\d  # after a digit,\n",
    "    (?!        # but not the position where \n",
    "      (?<=3)   # '3' precedes, AND\n",
    "      (?=4)    # '4' follows\n",
    "    )\n",
    "  )''', re.X)\n",
    "print(inbetween.sub('a', '12345'))"
   ]
  },
  {
   "cell_type": "code",
   "execution_count": null,
   "metadata": {
    "slideshow": {
     "slide_type": "subslide"
    }
   },
   "outputs": [],
   "source": [
    "import re\n",
    "objects = 'Mars Jupiter Uran Neptun Pluto'\n",
    "tests = ['Mars Jupiter Uran Neptun Pluto', 'Jupiter Uran Neptun', 'Jupiter', 'Mars', 'Neptun', 'Uran']\n",
    "for test in tests:\n",
    "    if re.search(r'^.*\\b(Jupiter|Mars|Neptun|Uran)\\b.*$', objects).group(1) == test:\n",
    "        print('funguje')\n",
    "    else:\n",
    "        print('nefunguje')"
   ]
  },
  {
   "cell_type": "code",
   "execution_count": null,
   "metadata": {
    "slideshow": {
     "slide_type": "subslide"
    }
   },
   "outputs": [],
   "source": [
    "import re\n",
    "tests = ['999==666','987==987','765==765','666==666']\n",
    "for test in tests:\n",
    "    if re.search(r'([987]{3}|[654]{3})==\\1', test):\n",
    "        print('funguje')\n",
    "    else:\n",
    "        print('nefunguje')"
   ]
  },
  {
   "cell_type": "markdown",
   "metadata": {
    "slideshow": {
     "slide_type": "slide"
    }
   },
   "source": [
    "![regex golf](regex_golf.png)\n",
    "[Peter Norvig's solution] (http://nbviewer.jupyter.org/url/norvig.com/ipython/xkcd1313.ipynb)"
   ]
  },
  {
   "cell_type": "markdown",
   "metadata": {
    "slideshow": {
     "slide_type": "slide"
    }
   },
   "source": [
    "## Regex Engine Types\n",
    "\n",
    "There are two fundamentally different types of regex engines - DFA and NFA\n",
    "\n",
    "Both engine types have been around for a long time, but like its gasoline counterpart, the NFA type seems to be used more often. Tools that use an NFA engine include the .NET languages, PHP, Ruby, Perl, Python, GNU Emacs, ed, sed, vi, most versions of grep, and even a few versions of egrep and awk. On the other hand, a DFA engine is found in almost all versions of egrep and awk, as well as lex and flex. Some systems have a multi-engine hybrid system, using the most appropriate engine for the job (or even one that swaps between engines for different parts of the same regex, as needed to get the best combination of features and speed)."
   ]
  },
  {
   "cell_type": "markdown",
   "metadata": {
    "slideshow": {
     "slide_type": "slide"
    }
   },
   "source": [
    "## Next lecture - Python data structures and basics\n",
    "- https://www.youtube.com/watch?v=fYlnfvKVDoM\n",
    "- https://www.youtube.com/watch?v=_AEJHKGk9ns"
   ]
  },
  {
   "cell_type": "code",
   "execution_count": 234,
   "metadata": {
    "slideshow": {
     "slide_type": "subslide"
    }
   },
   "outputs": [
    {
     "name": "stdout",
     "output_type": "stream",
     "text": [
      "Iva Pavel David Ada\n",
      "Pavel David Jansen\n"
     ]
    }
   ],
   "source": [
    "# minitask 1.4\n",
    "# strings/lines that contain _words_ David and Pavel and do not contain neither _words_ Petr nor Jan\n",
    "# expected output:\n",
    "# Iva Pavel David Ada\n",
    "# Pavel David Jansen\n",
    "texts = ['David Petr','Iva Pavel David Ada','Davidson Pavelek','Pavel David Jansen']\n",
    "for text in texts:\n",
    "    if re.search(r'^(?=.*?\\bDavid\\b)(?=.*?\\bPavel\\b)(?!.*\\b(Petr|Jan)\\b).*$',text):\n",
    "        print(text)"
   ]
  }
 ],
 "metadata": {
  "anaconda-cloud": {},
  "celltoolbar": "Slideshow",
  "kernelspec": {
   "display_name": "Python 3",
   "language": "python",
   "name": "python3"
  },
  "language_info": {
   "codemirror_mode": {
    "name": "ipython",
    "version": 3
   },
   "file_extension": ".py",
   "mimetype": "text/x-python",
   "name": "python",
   "nbconvert_exporter": "python",
   "pygments_lexer": "ipython3",
   "version": "3.6.7"
  },
  "livereveal": {
   "controls": true,
   "height": 855,
   "history": true,
   "minScale": 1,
   "progress": true,
   "scroll": false,
   "slideNumber": true,
   "start_slideshow_at": "selected",
   "theme": "simple",
   "transition": "linear",
   "width": 1140
  }
 },
 "nbformat": 4,
 "nbformat_minor": 1
}
